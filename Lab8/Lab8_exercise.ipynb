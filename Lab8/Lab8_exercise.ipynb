{
  "nbformat": 4,
  "nbformat_minor": 0,
  "metadata": {
    "colab": {
      "name": "Lab8_exercise.ipynb",
      "provenance": [],
      "authorship_tag": "ABX9TyOkqWPQHHP8fou+Ikuf14Pv",
      "include_colab_link": true
    },
    "kernelspec": {
      "name": "python3",
      "display_name": "Python 3"
    },
    "language_info": {
      "name": "python"
    },
    "accelerator": "GPU"
  },
  "cells": [
    {
      "cell_type": "markdown",
      "metadata": {
        "id": "view-in-github",
        "colab_type": "text"
      },
      "source": [
        "<a href=\"https://colab.research.google.com/github/georgeray1999-CS/Lab_Assignments/blob/main/Lab8/Lab8_exercise.ipynb\" target=\"_parent\"><img src=\"https://colab.research.google.com/assets/colab-badge.svg\" alt=\"Open In Colab\"/></a>"
      ]
    },
    {
      "cell_type": "markdown",
      "metadata": {
        "id": "0eRPuw_J0HdP"
      },
      "source": [
        "Data unpacked and uploaded manually from local drive"
      ]
    },
    {
      "cell_type": "code",
      "metadata": {
        "colab": {
          "base_uri": "https://localhost:8080/"
        },
        "id": "AgNtU__ru_IQ",
        "outputId": "dcc322bd-7978-4202-dac8-1972a025e6a5"
      },
      "source": [
        "# Unzip training data\n",
        "from zipfile import ZipFile\n",
        "file_name = \"/content/data.zip\"\n",
        "with ZipFile(file_name, 'r') as zip:\n",
        "  zip.extractall()\n",
        "  print('done')"
      ],
      "execution_count": 1,
      "outputs": [
        {
          "output_type": "stream",
          "text": [
            "done\n"
          ],
          "name": "stdout"
        }
      ]
    },
    {
      "cell_type": "code",
      "metadata": {
        "colab": {
          "base_uri": "https://localhost:8080/"
        },
        "id": "V9P3r54fx9A2",
        "outputId": "2a6eb474-cfbd-472b-8512-e19791fbd1e8"
      },
      "source": [
        "import os\n",
        "# get all paths\n",
        "data_dir_list = os.listdir('/content/data')\n",
        "print(data_dir_list)"
      ],
      "execution_count": 2,
      "outputs": [
        {
          "output_type": "stream",
          "text": [
            "['horse-173.jpg', 'horse-2.jpg', 'horse-157.jpg', 'horse-25.jpg', 'rider-26.jpg', 'horse-97.jpg', 'cat.10.jpg', 'rider-61.jpg', 'rider-55.jpg', 'rider-111.jpg', 'rider-191.jpg', 'dog.19.jpg', 'horse-43.jpg', 'cat.137.jpg', 'dog.32.jpg', 'rider-2.jpg', 'rider-79.jpg', 'cat.34.jpg', 'rider-23.jpg', 'cat.70.jpg', 'horse-119.jpg', 'rider-186.jpg', 'rider-75.jpg', 'cat.140.jpg', 'cat.115.jpg', 'cat.46.jpg', 'rider-35.jpg', 'cat.60.jpg', 'rider-59.jpg', 'cat.75.jpg', 'horse-104.jpg', 'horse-55.jpg', 'rider-133.jpg', 'dog.82.jpg', 'dog.54.jpg', 'cat.7.jpg', 'rider-87.jpg', 'rider-56.jpg', 'cat.195.jpg', 'rider-104.jpg', 'cat.117.jpg', 'horse-134.jpg', 'horse-193.jpg', 'cat.41.jpg', 'cat.139.jpg', 'dog.80.jpg', 'dog.47.jpg', 'dog.66.jpg', 'rider-45.jpg', 'dog.72.jpg', 'dog.132.jpg', 'dog.30.jpg', 'horse-71.jpg', 'rider-128.jpg', 'horse-22.jpg', 'cat.50.jpg', 'rider-77.jpg', 'dog.149.jpg', 'cat.37.jpg', 'dog.193.jpg', 'rider-194.jpg', 'dog.89.jpg', 'horse-199.jpg', 'rider-115.jpg', 'cat.19.jpg', 'dog.200.jpg', 'rider-196.jpg', 'horse-39.jpg', 'cat.180.jpg', 'cat.40.jpg', 'horse-56.jpg', 'rider-94.jpg', 'dog.46.jpg', 'cat.89.jpg', 'cat.153.jpg', 'horse-93.jpg', 'cat.38.jpg', 'horse-133.jpg', 'dog.16.jpg', 'dog.15.jpg', 'dog.113.jpg', 'horse-114.jpg', 'dog.134.jpg', 'dog.122.jpg', 'dog.163.jpg', 'dog.105.jpg', 'horse-150.jpg', 'cat.9.jpg', 'dog.104.jpg', 'dog.123.jpg', 'cat.48.jpg', 'horse-32.jpg', 'rider-103.jpg', 'cat.175.jpg', 'dog.167.jpg', 'rider-92.jpg', 'dog.6.jpg', 'rider-102.jpg', 'dog.202.jpg', 'rider-37.jpg', 'dog.44.jpg', 'cat.26.jpg', 'cat.186.jpg', 'dog.148.jpg', 'dog.94.jpg', 'horse-38.jpg', 'cat.125.jpg', 'rider-129.jpg', 'rider-3.jpg', 'horse-129.jpg', 'cat.188.jpg', 'rider-17.jpg', 'dog.107.jpg', 'horse-33.jpg', 'rider-4.jpg', 'cat.54.jpg', 'horse-108.jpg', 'rider-80.jpg', 'horse-147.jpg', 'cat.69.jpg', 'horse-184.jpg', 'rider-107.jpg', 'horse-46.jpg', 'cat.52.jpg', 'rider-53.jpg', 'cat.99.jpg', 'horse-120.jpg', 'cat.121.jpg', 'rider-167.jpg', 'rider-185.jpg', 'cat.179.jpg', 'cat.156.jpg', 'dog.60.jpg', 'cat.82.jpg', 'horse-67.jpg', 'dog.97.jpg', 'horse-132.jpg', 'dog.67.jpg', 'dog.131.jpg', 'dog.85.jpg', 'dog.158.jpg', 'horse-48.jpg', 'dog.26.jpg', 'cat.142.jpg', 'cat.172.jpg', 'cat.65.jpg', 'horse-3.jpg', 'rider-73.jpg', 'horse-78.jpg', 'rider-202.jpg', 'dog.129.jpg', 'cat.112.jpg', 'rider-112.jpg', 'horse-116.jpg', 'cat.15.jpg', 'horse-69.jpg', 'horse-123.jpg', 'dog.108.jpg', 'cat.130.jpg', 'dog.27.jpg', 'cat.114.jpg', 'horse-121.jpg', 'horse-51.jpg', 'cat.23.jpg', 'dog.176.jpg', 'horse-190.jpg', 'cat.196.jpg', 'horse-138.jpg', 'rider-24.jpg', 'dog.157.jpg', 'dog.101.jpg', 'dog.71.jpg', 'cat.86.jpg', 'dog.49.jpg', 'dog.192.jpg', 'dog.77.jpg', 'rider-71.jpg', 'cat.201.jpg', 'rider-135.jpg', 'horse-155.jpg', 'cat.148.jpg', 'cat.63.jpg', 'dog.41.jpg', 'dog.10.jpg', 'dog.79.jpg', 'cat.169.jpg', 'rider-109.jpg', 'horse-85.jpg', 'rider-64.jpg', 'horse-159.jpg', 'rider-15.jpg', 'horse-194.jpg', 'dog.175.jpg', 'cat.84.jpg', 'rider-120.jpg', 'rider-14.jpg', 'dog.81.jpg', 'horse-156.jpg', 'cat.18.jpg', 'dog.112.jpg', 'rider-142.jpg', 'cat.149.jpg', 'rider-98.jpg', 'cat.162.jpg', 'cat.76.jpg', 'rider-9.jpg', 'dog.154.jpg', 'rider-36.jpg', 'horse-88.jpg', 'cat.22.jpg', 'horse-128.jpg', 'horse-177.jpg', 'rider-130.jpg', 'dog.195.jpg', 'horse-182.jpg', 'horse-68.jpg', 'rider-108.jpg', 'rider-99.jpg', 'rider-173.jpg', 'dog.13.jpg', 'dog.39.jpg', 'horse-175.jpg', 'horse-160.jpg', 'dog.33.jpg', 'rider-179.jpg', 'rider-176.jpg', 'cat.12.jpg', 'horse-141.jpg', 'cat.61.jpg', 'rider-143.jpg', 'rider-153.jpg', 'cat.64.jpg', 'rider-164.jpg', 'dog.121.jpg', 'rider-47.jpg', 'horse-200.jpg', 'rider-21.jpg', 'dog.127.jpg', 'horse-7.jpg', 'cat.94.jpg', 'dog.43.jpg', 'cat.168.jpg', 'rider-201.jpg', 'cat.138.jpg', 'cat.109.jpg', 'cat.182.jpg', 'rider-169.jpg', 'horse-1.jpg', 'dog.55.jpg', 'dog.83.jpg', 'cat.199.jpg', 'horse-63.jpg', 'cat.131.jpg', 'horse-50.jpg', 'rider-182.jpg', 'horse-112.jpg', 'horse-125.jpg', 'horse-17.jpg', 'cat.73.jpg', 'cat.32.jpg', 'cat.116.jpg', 'dog.155.jpg', 'dog.136.jpg', 'dog.145.jpg', 'dog.171.jpg', 'cat.71.jpg', 'dog.172.jpg', 'cat.111.jpg', 'horse-45.jpg', 'rider-139.jpg', 'cat.126.jpg', 'cat.2.jpg', 'rider-93.jpg', 'cat.45.jpg', 'cat.202.jpg', 'rider-51.jpg', 'dog.53.jpg', 'horse-52.jpg', 'cat.136.jpg', 'cat.68.jpg', 'horse-53.jpg', 'horse-181.jpg', 'cat.110.jpg', 'cat.123.jpg', 'rider-106.jpg', 'cat.1.jpg', 'dog.37.jpg', 'rider-60.jpg', 'dog.181.jpg', 'cat.29.jpg', 'horse-130.jpg', 'dog.21.jpg', 'dog.198.jpg', 'cat.145.jpg', 'horse-149.jpg', 'horse-23.jpg', 'cat.6.jpg', 'horse-164.jpg', 'rider-44.jpg', 'dog.160.jpg', 'rider-12.jpg', 'horse-6.jpg', 'cat.90.jpg', 'dog.61.jpg', 'cat.165.jpg', 'rider-119.jpg', 'dog.142.jpg', 'dog.119.jpg', 'cat.11.jpg', 'cat.135.jpg', 'rider-114.jpg', 'rider-187.jpg', 'horse-83.jpg', 'rider-156.jpg', 'horse-187.jpg', 'cat.133.jpg', 'dog.58.jpg', 'rider-90.jpg', 'horse-40.jpg', 'rider-166.jpg', 'dog.98.jpg', 'horse-12.jpg', 'rider-127.jpg', 'cat.43.jpg', 'dog.152.jpg', 'dog.29.jpg', 'dog.99.jpg', 'horse-61.jpg', 'cat.88.jpg', 'dog.109.jpg', 'horse-84.jpg', 'cat.27.jpg', 'rider-199.jpg', 'cat.36.jpg', 'cat.173.jpg', 'rider-148.jpg', 'horse-9.jpg', 'horse-74.jpg', 'horse-75.jpg', 'horse-42.jpg', 'rider-97.jpg', 'horse-163.jpg', 'horse-111.jpg', 'rider-69.jpg', 'dog.5.jpg', 'cat.35.jpg', 'dog.18.jpg', 'horse-178.jpg', 'cat.55.jpg', 'horse-161.jpg', 'dog.194.jpg', 'horse-72.jpg', 'rider-25.jpg', 'cat.62.jpg', 'rider-189.jpg', 'rider-110.jpg', 'cat.102.jpg', 'cat.5.jpg', 'rider-52.jpg', 'horse-201.jpg', 'horse-5.jpg', 'rider-20.jpg', 'cat.120.jpg', 'rider-1.jpg', 'horse-70.jpg', 'dog.159.jpg', 'cat.197.jpg', 'cat.150.jpg', 'rider-88.jpg', 'dog.140.jpg', 'dog.147.jpg', 'dog.56.jpg', 'rider-162.jpg', 'horse-8.jpg', 'horse-188.jpg', 'rider-126.jpg', 'rider-158.jpg', 'cat.42.jpg', 'horse-191.jpg', 'dog.36.jpg', 'horse-28.jpg', 'cat.200.jpg', 'rider-197.jpg', 'horse-100.jpg', 'rider-154.jpg', 'cat.119.jpg', 'horse-140.jpg', 'cat.95.jpg', 'rider-165.jpg', 'cat.79.jpg', 'rider-63.jpg', 'cat.155.jpg', 'cat.132.jpg', 'horse-15.jpg', 'dog.165.jpg', 'dog.88.jpg', 'horse-37.jpg', 'cat.16.jpg', 'dog.118.jpg', 'rider-13.jpg', 'rider-89.jpg', 'cat.103.jpg', 'cat.113.jpg', 'dog.23.jpg', 'rider-100.jpg', 'cat.198.jpg', 'dog.168.jpg', 'dog.179.jpg', 'dog.51.jpg', 'dog.111.jpg', 'rider-168.jpg', 'horse-95.jpg', 'dog.197.jpg', 'horse-14.jpg', 'rider-155.jpg', 'cat.106.jpg', 'dog.84.jpg', 'rider-5.jpg', 'rider-74.jpg', 'horse-96.jpg', 'dog.182.jpg', 'dog.3.jpg', 'dog.102.jpg', 'dog.70.jpg', 'cat.85.jpg', 'dog.164.jpg', 'rider-138.jpg', 'cat.143.jpg', 'horse-62.jpg', 'horse-64.jpg', 'rider-132.jpg', 'cat.8.jpg', 'cat.104.jpg', 'cat.159.jpg', 'horse-183.jpg', 'cat.17.jpg', 'horse-77.jpg', 'horse-115.jpg', 'dog.190.jpg', 'cat.191.jpg', 'cat.178.jpg', 'horse-171.jpg', 'horse-144.jpg', 'cat.101.jpg', 'cat.176.jpg', 'dog.4.jpg', 'rider-46.jpg', 'rider-125.jpg', 'cat.96.jpg', 'dog.68.jpg', 'rider-68.jpg', 'rider-181.jpg', 'dog.151.jpg', 'cat.154.jpg', 'dog.143.jpg', 'dog.35.jpg', 'rider-146.jpg', 'horse-44.jpg', 'dog.180.jpg', 'horse-105.jpg', 'horse-19.jpg', 'cat.83.jpg', 'dog.146.jpg', 'cat.147.jpg', 'rider-141.jpg', 'rider-67.jpg', 'cat.47.jpg', 'dog.87.jpg', 'horse-89.jpg', 'dog.196.jpg', 'rider-136.jpg', 'horse-166.jpg', 'dog.135.jpg', 'dog.50.jpg', 'dog.120.jpg', 'dog.52.jpg', 'rider-70.jpg', 'dog.14.jpg', 'dog.185.jpg', 'horse-107.jpg', 'cat.33.jpg', 'cat.81.jpg', 'cat.28.jpg', 'rider-66.jpg', 'dog.40.jpg', 'rider-178.jpg', 'rider-116.jpg', 'horse-16.jpg', 'dog.177.jpg', 'dog.156.jpg', 'rider-33.jpg', 'cat.157.jpg', 'horse-122.jpg', 'horse-80.jpg', 'rider-30.jpg', 'horse-27.jpg', 'cat.31.jpg', 'cat.58.jpg', 'cat.124.jpg', 'horse-4.jpg', 'dog.153.jpg', 'dog.90.jpg', 'rider-38.jpg', 'dog.38.jpg', 'cat.14.jpg', 'horse-143.jpg', 'horse-162.jpg', 'horse-196.jpg', 'horse-92.jpg', 'dog.125.jpg', 'cat.57.jpg', 'rider-175.jpg', 'rider-43.jpg', 'cat.164.jpg', 'cat.192.jpg', 'rider-54.jpg', 'cat.98.jpg', 'cat.144.jpg', 'dog.174.jpg', 'rider-198.jpg', 'dog.184.jpg', 'dog.169.jpg', 'dog.2.jpg', 'cat.177.jpg', 'cat.44.jpg', 'cat.108.jpg', 'rider-28.jpg', 'cat.21.jpg', 'dog.178.jpg', 'horse-109.jpg', 'horse-174.jpg', 'rider-31.jpg', 'dog.137.jpg', 'horse-57.jpg', 'dog.133.jpg', 'cat.78.jpg', 'rider-192.jpg', 'cat.141.jpg', 'horse-90.jpg', 'rider-78.jpg', 'cat.107.jpg', 'horse-172.jpg', 'horse-47.jpg', 'cat.24.jpg', 'dog.73.jpg', 'dog.74.jpg', 'rider-118.jpg', 'horse-103.jpg', 'dog.34.jpg', 'horse-35.jpg', 'rider-40.jpg', 'horse-29.jpg', 'horse-106.jpg', 'horse-86.jpg', 'rider-49.jpg', 'rider-122.jpg', 'horse-30.jpg', 'rider-152.jpg', 'dog.17.jpg', 'rider-131.jpg', 'horse-59.jpg', 'rider-96.jpg', 'cat.100.jpg', 'rider-195.jpg', 'horse-26.jpg', 'rider-147.jpg', 'horse-135.jpg', 'horse-13.jpg', 'horse-142.jpg', 'horse-82.jpg', 'rider-137.jpg', 'horse-113.jpg', 'dog.78.jpg', 'horse-66.jpg', 'dog.48.jpg', 'dog.189.jpg', 'cat.171.jpg', 'dog.115.jpg', 'horse-136.jpg', 'horse-165.jpg', 'rider-188.jpg', 'cat.97.jpg', 'rider-193.jpg', 'cat.166.jpg', 'horse-79.jpg', 'dog.103.jpg', 'rider-149.jpg', 'horse-126.jpg', 'horse-180.jpg', 'dog.8.jpg', 'rider-145.jpg', 'cat.187.jpg', 'rider-157.jpg', 'dog.126.jpg', 'cat.87.jpg', 'horse-192.jpg', 'dog.117.jpg', 'cat.151.jpg', 'rider-83.jpg', 'rider-91.jpg', 'cat.152.jpg', 'dog.201.jpg', 'horse-36.jpg', 'rider-82.jpg', 'horse-101.jpg', 'horse-151.jpg', 'rider-95.jpg', 'horse-94.jpg', 'rider-42.jpg', 'dog.28.jpg', 'dog.186.jpg', 'rider-113.jpg', 'rider-184.jpg', 'horse-153.jpg', 'cat.146.jpg', 'cat.134.jpg', 'cat.77.jpg', 'rider-105.jpg', 'dog.144.jpg', 'horse-54.jpg', 'horse-118.jpg', 'rider-170.jpg', 'dog.76.jpg', 'horse-158.jpg', 'rider-190.jpg', 'cat.185.jpg', 'cat.74.jpg', 'cat.181.jpg', 'rider-180.jpg', 'rider-81.jpg', 'dog.65.jpg', 'horse-87.jpg', 'rider-72.jpg', 'dog.22.jpg', 'cat.92.jpg', 'rider-34.jpg', 'cat.66.jpg', 'cat.118.jpg', 'rider-27.jpg', 'cat.194.jpg', 'dog.1.jpg', 'dog.166.jpg', 'horse-31.jpg', 'horse-99.jpg', 'dog.45.jpg', 'dog.86.jpg', 'horse-41.jpg', 'dog.59.jpg', 'horse-11.jpg', 'rider-177.jpg', 'rider-7.jpg', 'horse-148.jpg', 'horse-91.jpg', 'rider-41.jpg', 'horse-65.jpg', 'rider-144.jpg', 'dog.11.jpg', 'dog.191.jpg', 'dog.173.jpg', 'horse-73.jpg', 'cat.25.jpg', 'dog.139.jpg', 'dog.199.jpg', 'dog.183.jpg', 'dog.63.jpg', 'horse-24.jpg', 'rider-48.jpg', 'horse-102.jpg', 'cat.4.jpg', 'dog.138.jpg', 'horse-176.jpg', 'rider-172.jpg', 'rider-29.jpg', 'dog.114.jpg', 'horse-186.jpg', 'rider-134.jpg', 'dog.162.jpg', 'cat.183.jpg', 'cat.67.jpg', 'cat.128.jpg', 'cat.30.jpg', 'rider-8.jpg', 'rider-121.jpg', 'dog.124.jpg', 'rider-62.jpg', 'rider-117.jpg', 'rider-39.jpg', 'horse-185.jpg', 'rider-160.jpg', 'dog.141.jpg', 'horse-198.jpg', 'horse-170.jpg', 'horse-139.jpg', 'cat.53.jpg', 'dog.24.jpg', 'dog.95.jpg', 'rider-140.jpg', 'horse-145.jpg', 'cat.160.jpg', 'horse-195.jpg', 'horse-131.jpg', 'dog.7.jpg', 'cat.91.jpg', 'horse-168.jpg', 'dog.130.jpg', 'cat.158.jpg', 'cat.129.jpg', 'cat.161.jpg', 'dog.106.jpg', 'cat.174.jpg', 'rider-163.jpg', 'horse-60.jpg', 'cat.184.jpg', 'rider-19.jpg', 'horse-179.jpg', 'horse-169.jpg', 'horse-81.jpg', 'dog.100.jpg', 'cat.56.jpg', 'rider-171.jpg', 'dog.12.jpg', 'cat.93.jpg', 'cat.193.jpg', 'cat.170.jpg', 'horse-137.jpg', 'horse-124.jpg', 'cat.80.jpg', 'horse-110.jpg', 'dog.75.jpg', 'rider-183.jpg', 'dog.57.jpg', 'dog.187.jpg', 'cat.49.jpg', 'horse-127.jpg', 'horse-202.jpg', 'cat.167.jpg', 'cat.13.jpg', 'horse-154.jpg', 'rider-200.jpg', 'cat.3.jpg', 'rider-161.jpg', 'cat.51.jpg', 'horse-197.jpg', 'dog.20.jpg', 'horse-146.jpg', 'dog.161.jpg', 'dog.96.jpg', 'horse-49.jpg', 'dog.150.jpg', 'rider-16.jpg', 'dog.42.jpg', 'rider-123.jpg', 'dog.93.jpg', 'dog.9.jpg', 'rider-11.jpg', 'dog.64.jpg', 'dog.188.jpg', 'cat.20.jpg', 'rider-22.jpg', 'cat.163.jpg', 'rider-84.jpg', 'horse-10.jpg', 'rider-10.jpg', 'horse-20.jpg', 'cat.72.jpg', 'rider-86.jpg', 'dog.91.jpg', 'cat.105.jpg', 'horse-167.jpg', 'rider-65.jpg', 'rider-85.jpg', 'dog.69.jpg', 'rider-101.jpg', 'horse-34.jpg', 'rider-57.jpg', 'rider-151.jpg', 'rider-32.jpg', 'horse-18.jpg', 'rider-50.jpg', 'rider-76.jpg', 'dog.25.jpg', 'cat.127.jpg', 'horse-98.jpg', 'dog.92.jpg', 'horse-76.jpg', 'rider-58.jpg', 'horse-58.jpg', 'rider-159.jpg', 'rider-6.jpg', 'dog.62.jpg', 'cat.189.jpg', 'rider-124.jpg', 'dog.128.jpg', 'rider-150.jpg', 'dog.31.jpg', 'cat.39.jpg', 'cat.190.jpg', 'horse-152.jpg', 'rider-18.jpg', 'horse-189.jpg', 'cat.122.jpg', 'dog.116.jpg', 'cat.59.jpg', 'rider-174.jpg', 'horse-21.jpg', 'dog.170.jpg', 'dog.110.jpg', 'horse-117.jpg']\n"
          ],
          "name": "stdout"
        }
      ]
    },
    {
      "cell_type": "code",
      "metadata": {
        "id": "dJid7Pwa-lTs"
      },
      "source": [
        "# rename files\n",
        "for file in os.listdir('/content/data'):\n",
        "  if ('horse' in file) or ('rider' in file):\n",
        "    word_label = file.split('-')[0]\n",
        "    number_label = file.split('-')[1]\n",
        "\n",
        "    new_name = '/content/data/' + word_label + '.' + number_label\n",
        "    os.rename('/content/data/' + file, new_name)\n"
      ],
      "execution_count": 3,
      "outputs": []
    },
    {
      "cell_type": "code",
      "metadata": {
        "id": "Q3iKB6G3zZRH"
      },
      "source": [
        "# Make new base directory\n",
        "original_dataset_dir = '/content/data'\n",
        "base_dir = '/content/human_horse_cat_dog_data'\n",
        "os.mkdir(base_dir)"
      ],
      "execution_count": 4,
      "outputs": []
    },
    {
      "cell_type": "code",
      "metadata": {
        "id": "6_Fo8i_kzjwR"
      },
      "source": [
        "train_dir = os.path.join(base_dir, 'train')\n",
        "os.mkdir(train_dir)\n",
        "\n",
        "validation_dir = os.path.join(base_dir, 'validation')\n",
        "os.mkdir(validation_dir)\n",
        "\n",
        "test_dir = os.path.join(base_dir, 'test')\n",
        "os.mkdir(test_dir)"
      ],
      "execution_count": 5,
      "outputs": []
    },
    {
      "cell_type": "code",
      "metadata": {
        "id": "spJVVijW0ETG"
      },
      "source": [
        "import shutil\n",
        "\n",
        "# cats\n",
        "fnames = ['cat.{}.jpg'.format(i) for i in range(1, 101)]\n",
        "for fname in fnames:\n",
        "    src = os.path.join(original_dataset_dir, fname)\n",
        "    dst = os.path.join(train_dir, fname)\n",
        "    #print(src,dst)\n",
        "    shutil.copyfile(src, dst)\n",
        "    \n",
        "fnames = ['cat.{}.jpg'.format(i) for i in range(101, 151)]\n",
        "for fname in fnames:\n",
        "    src = os.path.join(original_dataset_dir, fname)\n",
        "    dst = os.path.join(validation_dir, fname)\n",
        "    shutil.copyfile(src, dst)\n",
        "\n",
        "fnames = ['cat.{}.jpg'.format(i) for i in range(151, 203)]\n",
        "for fname in fnames:\n",
        "    src = os.path.join(original_dataset_dir, fname)\n",
        "    dst = os.path.join(test_dir, fname)\n",
        "    shutil.copyfile(src, dst)\n",
        "  \n",
        "# dogs\n",
        "fnames = ['dog.{}.jpg'.format(i) for i in range(1, 101)]\n",
        "for fname in fnames:\n",
        "    src = os.path.join(original_dataset_dir, fname)\n",
        "    dst = os.path.join(train_dir, fname)\n",
        "    shutil.copyfile(src, dst)\n",
        "\n",
        "fnames = ['dog.{}.jpg'.format(i) for i in range(101, 151)]\n",
        "for fname in fnames:\n",
        "    src = os.path.join(original_dataset_dir, fname)\n",
        "    dst = os.path.join(validation_dir, fname)\n",
        "    shutil.copyfile(src, dst)\n",
        "\n",
        "fnames = ['dog.{}.jpg'.format(i) for i in range(151, 203)]\n",
        "for fname in fnames:\n",
        "    src = os.path.join(original_dataset_dir, fname)\n",
        "    dst = os.path.join(test_dir, fname)\n",
        "    shutil.copyfile(src, dst)\n",
        "\n",
        "# humans\n",
        "fnames = ['rider.{}.jpg'.format(i) for i in range(1, 101)]\n",
        "for fname in fnames:\n",
        "    src = os.path.join(original_dataset_dir, fname)\n",
        "    dst = os.path.join(train_dir, fname)\n",
        "    shutil.copyfile(src, dst)\n",
        "\n",
        "fnames = ['rider.{}.jpg'.format(i) for i in range(101, 151)]\n",
        "for fname in fnames:\n",
        "    src = os.path.join(original_dataset_dir, fname)\n",
        "    dst = os.path.join(validation_dir, fname)\n",
        "    shutil.copyfile(src, dst)\n",
        "\n",
        "fnames = ['rider.{}.jpg'.format(i) for i in range(151, 203)]\n",
        "for fname in fnames:\n",
        "    src = os.path.join(original_dataset_dir, fname)\n",
        "    dst = os.path.join(test_dir, fname)\n",
        "    shutil.copyfile(src, dst)\n",
        "\n",
        "# horses\n",
        "fnames = ['horse.{}.jpg'.format(i) for i in range(1, 101)]\n",
        "for fname in fnames:\n",
        "    src = os.path.join(original_dataset_dir, fname)\n",
        "    dst = os.path.join(train_dir, fname)\n",
        "    shutil.copyfile(src, dst)\n",
        "\n",
        "fnames = ['horse.{}.jpg'.format(i) for i in range(101, 151)]\n",
        "for fname in fnames:\n",
        "    src = os.path.join(original_dataset_dir, fname)\n",
        "    dst = os.path.join(validation_dir, fname)\n",
        "    shutil.copyfile(src, dst)\n",
        "\n",
        "fnames = ['horse.{}.jpg'.format(i) for i in range(151, 203)]\n",
        "for fname in fnames:\n",
        "    src = os.path.join(original_dataset_dir, fname)\n",
        "    dst = os.path.join(test_dir, fname)\n",
        "    shutil.copyfile(src, dst)"
      ],
      "execution_count": 6,
      "outputs": []
    },
    {
      "cell_type": "code",
      "metadata": {
        "id": "q7BezDHE9szy"
      },
      "source": [
        "import cv2\n",
        "import numpy as np\n",
        "from random import shuffle\n",
        "\n",
        "IMG_SIZE = 224\n",
        "LR = 1e-4"
      ],
      "execution_count": 7,
      "outputs": []
    },
    {
      "cell_type": "code",
      "metadata": {
        "id": "U4GXrrlj9uNX"
      },
      "source": [
        "def label_img(img):\n",
        "    word_label = img.split('.')[0]\n",
        "    if word_label == 'rider': return 3\n",
        "    elif word_label == 'horse': return 2\n",
        "    elif word_label == 'dog': return 1\n",
        "    elif word_label == 'cat': return 0"
      ],
      "execution_count": 8,
      "outputs": []
    },
    {
      "cell_type": "code",
      "metadata": {
        "id": "7a46IwHMCt69"
      },
      "source": [
        "def createDataSplitSet(datapath):\n",
        "    X = []\n",
        "    y = []\n",
        "\n",
        "    for img in os.listdir(datapath):\n",
        "        label = label_img(img)\n",
        "        # print(label)\n",
        "        path = os.path.join(datapath, img)\n",
        "        image = cv2.resize(cv2.imread(path), (IMG_SIZE, IMG_SIZE))\n",
        "        image = cv2.normalize(image, None, alpha=0, beta=1, norm_type=cv2.NORM_MINMAX, dtype=cv2.CV_32F)\n",
        "\n",
        "        X.append(np.array(image))\n",
        "        y.append(label)\n",
        "\n",
        "    return np.array(X), np.array(y)"
      ],
      "execution_count": 9,
      "outputs": []
    },
    {
      "cell_type": "code",
      "metadata": {
        "id": "k2tvkebuC0wD"
      },
      "source": [
        "train_X, train_y = createDataSplitSet(train_dir)\n",
        "val_X, val_y = createDataSplitSet(validation_dir)\n",
        "test_X, test_y = createDataSplitSet(test_dir)"
      ],
      "execution_count": 10,
      "outputs": []
    },
    {
      "cell_type": "markdown",
      "metadata": {
        "id": "s9WUdwT5DBmf"
      },
      "source": [
        "# Model building"
      ]
    },
    {
      "cell_type": "markdown",
      "metadata": {
        "id": "zPtEn3F1K7ux"
      },
      "source": [
        "## VGG16"
      ]
    },
    {
      "cell_type": "code",
      "metadata": {
        "id": "xdX_eKfHC3JB"
      },
      "source": [
        "## VGG 16\n",
        "from tensorflow.keras.applications import VGG16\n",
        "from tensorflow.keras.layers import Dense, Input\n",
        "from tensorflow.keras import Model\n",
        "\n",
        "img_input = Input(shape=(IMG_SIZE, IMG_SIZE, 3))"
      ],
      "execution_count": 65,
      "outputs": []
    },
    {
      "cell_type": "code",
      "metadata": {
        "colab": {
          "base_uri": "https://localhost:8080/"
        },
        "id": "5XlLxNxkC8kz",
        "outputId": "a960bdba-c716-4702-ac0c-3e5a4d0df319"
      },
      "source": [
        "model = VGG16(\n",
        "    include_top=True,\n",
        "    weights=\"imagenet\",\n",
        "    input_tensor=img_input,\n",
        "    input_shape=None,\n",
        "    pooling=None,\n",
        "    classes=1000,\n",
        "    classifier_activation=\"softmax\")\n",
        "model.summary()"
      ],
      "execution_count": 66,
      "outputs": [
        {
          "output_type": "stream",
          "text": [
            "Model: \"vgg16\"\n",
            "_________________________________________________________________\n",
            "Layer (type)                 Output Shape              Param #   \n",
            "=================================================================\n",
            "input_3 (InputLayer)         [(None, 224, 224, 3)]     0         \n",
            "_________________________________________________________________\n",
            "block1_conv1 (Conv2D)        (None, 224, 224, 64)      1792      \n",
            "_________________________________________________________________\n",
            "block1_conv2 (Conv2D)        (None, 224, 224, 64)      36928     \n",
            "_________________________________________________________________\n",
            "block1_pool (MaxPooling2D)   (None, 112, 112, 64)      0         \n",
            "_________________________________________________________________\n",
            "block2_conv1 (Conv2D)        (None, 112, 112, 128)     73856     \n",
            "_________________________________________________________________\n",
            "block2_conv2 (Conv2D)        (None, 112, 112, 128)     147584    \n",
            "_________________________________________________________________\n",
            "block2_pool (MaxPooling2D)   (None, 56, 56, 128)       0         \n",
            "_________________________________________________________________\n",
            "block3_conv1 (Conv2D)        (None, 56, 56, 256)       295168    \n",
            "_________________________________________________________________\n",
            "block3_conv2 (Conv2D)        (None, 56, 56, 256)       590080    \n",
            "_________________________________________________________________\n",
            "block3_conv3 (Conv2D)        (None, 56, 56, 256)       590080    \n",
            "_________________________________________________________________\n",
            "block3_pool (MaxPooling2D)   (None, 28, 28, 256)       0         \n",
            "_________________________________________________________________\n",
            "block4_conv1 (Conv2D)        (None, 28, 28, 512)       1180160   \n",
            "_________________________________________________________________\n",
            "block4_conv2 (Conv2D)        (None, 28, 28, 512)       2359808   \n",
            "_________________________________________________________________\n",
            "block4_conv3 (Conv2D)        (None, 28, 28, 512)       2359808   \n",
            "_________________________________________________________________\n",
            "block4_pool (MaxPooling2D)   (None, 14, 14, 512)       0         \n",
            "_________________________________________________________________\n",
            "block5_conv1 (Conv2D)        (None, 14, 14, 512)       2359808   \n",
            "_________________________________________________________________\n",
            "block5_conv2 (Conv2D)        (None, 14, 14, 512)       2359808   \n",
            "_________________________________________________________________\n",
            "block5_conv3 (Conv2D)        (None, 14, 14, 512)       2359808   \n",
            "_________________________________________________________________\n",
            "block5_pool (MaxPooling2D)   (None, 7, 7, 512)         0         \n",
            "_________________________________________________________________\n",
            "flatten (Flatten)            (None, 25088)             0         \n",
            "_________________________________________________________________\n",
            "fc1 (Dense)                  (None, 4096)              102764544 \n",
            "_________________________________________________________________\n",
            "fc2 (Dense)                  (None, 4096)              16781312  \n",
            "_________________________________________________________________\n",
            "predictions (Dense)          (None, 1000)              4097000   \n",
            "=================================================================\n",
            "Total params: 138,357,544\n",
            "Trainable params: 138,357,544\n",
            "Non-trainable params: 0\n",
            "_________________________________________________________________\n"
          ],
          "name": "stdout"
        }
      ]
    },
    {
      "cell_type": "markdown",
      "metadata": {
        "id": "R8z7T5c6QQVO"
      },
      "source": [
        "### Feature extraction"
      ]
    },
    {
      "cell_type": "code",
      "metadata": {
        "colab": {
          "base_uri": "https://localhost:8080/"
        },
        "id": "mNKnk-XdDRRL",
        "outputId": "4b211f08-1397-40d3-86ce-f6602a7a21bb"
      },
      "source": [
        "last_layer = model.get_layer('fc2').output\n",
        "out = Dense(4, activation='softmax', name='output')(last_layer)  # 4 classes\n",
        "model = Model(img_input, out)\n",
        "\n",
        "for layer in model.layers[:-1]:\n",
        "\tlayer.trainable = False\n",
        "\n",
        "model.summary()"
      ],
      "execution_count": 64,
      "outputs": [
        {
          "output_type": "stream",
          "text": [
            "Model: \"model_4\"\n",
            "_________________________________________________________________\n",
            "Layer (type)                 Output Shape              Param #   \n",
            "=================================================================\n",
            "input_2 (InputLayer)         [(None, 224, 224, 3)]     0         \n",
            "_________________________________________________________________\n",
            "block1_conv1 (Conv2D)        (None, 224, 224, 64)      1792      \n",
            "_________________________________________________________________\n",
            "block1_conv2 (Conv2D)        (None, 224, 224, 64)      36928     \n",
            "_________________________________________________________________\n",
            "block1_pool (MaxPooling2D)   (None, 112, 112, 64)      0         \n",
            "_________________________________________________________________\n",
            "block2_conv1 (Conv2D)        (None, 112, 112, 128)     73856     \n",
            "_________________________________________________________________\n",
            "block2_conv2 (Conv2D)        (None, 112, 112, 128)     147584    \n",
            "_________________________________________________________________\n",
            "block2_pool (MaxPooling2D)   (None, 56, 56, 128)       0         \n",
            "_________________________________________________________________\n",
            "block3_conv1 (Conv2D)        (None, 56, 56, 256)       295168    \n",
            "_________________________________________________________________\n",
            "block3_conv2 (Conv2D)        (None, 56, 56, 256)       590080    \n",
            "_________________________________________________________________\n",
            "block3_conv3 (Conv2D)        (None, 56, 56, 256)       590080    \n",
            "_________________________________________________________________\n",
            "block3_pool (MaxPooling2D)   (None, 28, 28, 256)       0         \n",
            "_________________________________________________________________\n",
            "block4_conv1 (Conv2D)        (None, 28, 28, 512)       1180160   \n",
            "_________________________________________________________________\n",
            "block4_conv2 (Conv2D)        (None, 28, 28, 512)       2359808   \n",
            "_________________________________________________________________\n",
            "block4_conv3 (Conv2D)        (None, 28, 28, 512)       2359808   \n",
            "_________________________________________________________________\n",
            "block4_pool (MaxPooling2D)   (None, 14, 14, 512)       0         \n",
            "_________________________________________________________________\n",
            "block5_conv1 (Conv2D)        (None, 14, 14, 512)       2359808   \n",
            "_________________________________________________________________\n",
            "block5_conv2 (Conv2D)        (None, 14, 14, 512)       2359808   \n",
            "_________________________________________________________________\n",
            "block5_conv3 (Conv2D)        (None, 14, 14, 512)       2359808   \n",
            "_________________________________________________________________\n",
            "block5_pool (MaxPooling2D)   (None, 7, 7, 512)         0         \n",
            "_________________________________________________________________\n",
            "flatten (Flatten)            (None, 25088)             0         \n",
            "_________________________________________________________________\n",
            "fc1 (Dense)                  (None, 4096)              102764544 \n",
            "_________________________________________________________________\n",
            "fc2 (Dense)                  (None, 4096)              16781312  \n",
            "_________________________________________________________________\n",
            "output (Dense)               (None, 4)                 16388     \n",
            "=================================================================\n",
            "Total params: 134,276,932\n",
            "Trainable params: 16,388\n",
            "Non-trainable params: 134,260,544\n",
            "_________________________________________________________________\n"
          ],
          "name": "stdout"
        }
      ]
    },
    {
      "cell_type": "code",
      "metadata": {
        "id": "rpGUJA-SDaOO"
      },
      "source": [
        "model.compile(loss='sparse_categorical_crossentropy',\n",
        "              optimizer='adam',\n",
        "              metrics=['accuracy'])"
      ],
      "execution_count": 21,
      "outputs": []
    },
    {
      "cell_type": "code",
      "metadata": {
        "id": "YDgOFYZdDd4i"
      },
      "source": [
        "from tensorflow.keras.callbacks import EarlyStopping, ModelCheckpoint\n",
        "my_callbacks = [\n",
        "    EarlyStopping(monitor=\"val_loss\", patience=10, restore_best_weights=True),\n",
        "    ModelCheckpoint(filepath='vgg16_model.h5', save_best_only=True),\n",
        "]"
      ],
      "execution_count": 22,
      "outputs": []
    },
    {
      "cell_type": "code",
      "metadata": {
        "colab": {
          "base_uri": "https://localhost:8080/"
        },
        "id": "chEL3ghdDgco",
        "outputId": "b88627af-9f50-4b5f-f852-7d9e7f6fc94c"
      },
      "source": [
        "history = model.fit(train_X, train_y,\n",
        "                               batch_size=10,\n",
        "                               epochs=10, \n",
        "                               validation_data=(val_X, val_y),\n",
        "                               callbacks=my_callbacks)"
      ],
      "execution_count": 23,
      "outputs": [
        {
          "output_type": "stream",
          "text": [
            "Epoch 1/10\n",
            "40/40 [==============================] - 8s 191ms/step - loss: 0.3327 - accuracy: 0.8613 - val_loss: 0.3081 - val_accuracy: 0.9050\n",
            "Epoch 2/10\n",
            "40/40 [==============================] - 7s 182ms/step - loss: 0.2430 - accuracy: 0.9169 - val_loss: 0.3255 - val_accuracy: 0.8700\n",
            "Epoch 3/10\n",
            "40/40 [==============================] - 7s 182ms/step - loss: 0.2180 - accuracy: 0.9283 - val_loss: 0.2881 - val_accuracy: 0.8900\n",
            "Epoch 4/10\n",
            "40/40 [==============================] - 7s 181ms/step - loss: 0.2431 - accuracy: 0.9206 - val_loss: 0.2996 - val_accuracy: 0.8900\n",
            "Epoch 5/10\n",
            "40/40 [==============================] - 7s 181ms/step - loss: 0.2441 - accuracy: 0.9047 - val_loss: 0.2413 - val_accuracy: 0.9250\n",
            "Epoch 6/10\n",
            "40/40 [==============================] - 7s 182ms/step - loss: 0.2790 - accuracy: 0.8873 - val_loss: 0.2171 - val_accuracy: 0.9050\n",
            "Epoch 7/10\n",
            "40/40 [==============================] - 7s 182ms/step - loss: 0.1872 - accuracy: 0.9403 - val_loss: 0.3462 - val_accuracy: 0.8600\n",
            "Epoch 8/10\n",
            "40/40 [==============================] - 7s 182ms/step - loss: 0.2103 - accuracy: 0.9136 - val_loss: 0.4904 - val_accuracy: 0.8400\n",
            "Epoch 9/10\n",
            "40/40 [==============================] - 7s 182ms/step - loss: 0.1629 - accuracy: 0.9477 - val_loss: 0.2639 - val_accuracy: 0.9200\n",
            "Epoch 10/10\n",
            "40/40 [==============================] - 7s 182ms/step - loss: 0.1381 - accuracy: 0.9634 - val_loss: 0.2786 - val_accuracy: 0.9000\n"
          ],
          "name": "stdout"
        }
      ]
    },
    {
      "cell_type": "code",
      "metadata": {
        "colab": {
          "base_uri": "https://localhost:8080/",
          "height": 545
        },
        "id": "tKRkzo1LIdMT",
        "outputId": "d979dfd5-a488-4642-f23e-302d08240764"
      },
      "source": [
        "import matplotlib.pyplot as plt\n",
        "\n",
        "acc = history.history['accuracy']\n",
        "val_acc = history.history['val_accuracy']\n",
        "loss = history.history['loss']\n",
        "val_loss = history.history['val_loss']\n",
        "\n",
        "epochs = range(1, len(acc) + 1)\n",
        "\n",
        "plt.plot(epochs, acc, 'bo', label='Training acc')\n",
        "plt.plot(epochs, val_acc, 'b', label='Validation acc')\n",
        "plt.title('Training and validation accuracy')\n",
        "plt.legend()\n",
        "\n",
        "plt.figure()\n",
        "\n",
        "plt.plot(epochs, loss, 'bo', label='Training loss')\n",
        "plt.plot(epochs, val_loss, 'b', label='Validation loss')\n",
        "plt.title('Training and validation loss')\n",
        "plt.legend()\n",
        "\n",
        "plt.show()"
      ],
      "execution_count": 25,
      "outputs": [
        {
          "output_type": "display_data",
          "data": {
            "image/png": "[encoded data removed]",
            "text/plain": [
              "<Figure size 432x288 with 1 Axes>"
            ]
          },
          "metadata": {
            "tags": [],
            "needs_background": "light"
          }
        },
        {
          "output_type": "display_data",
          "data": {
            "image/png": "[encoded data removed]",
            "text/plain": [
              "<Figure size 432x288 with 1 Axes>"
            ]
          },
          "metadata": {
            "tags": [],
            "needs_background": "light"
          }
        }
      ]
    },
    {
      "cell_type": "code",
      "metadata": {
        "colab": {
          "base_uri": "https://localhost:8080/"
        },
        "id": "7h2aK6b_IeJ4",
        "outputId": "43c5045d-36f4-4c65-bce1-2274e7220f3d"
      },
      "source": [
        "from sklearn.metrics import accuracy_score\n",
        "\n",
        "## Test Accuracy\n",
        "predictions = model.predict(test_X)\n",
        "\n",
        "ypred = np.argmax(predictions, axis=1)\n",
        "\n",
        "test_acc = accuracy_score(test_y, ypred)\n",
        "\n",
        "from sklearn.metrics import precision_recall_fscore_support, roc_auc_score\n",
        "\n",
        "precision, recall, f1score, _ = precision_recall_fscore_support(test_y, ypred)\n",
        "\n",
        "print(\"Train Accuracy:\\t\", acc[-1])\n",
        "print(\"Val Accuracy:\\t\", val_acc[-1])\n",
        "print(\"Test Accuracy:\\t\", test_acc)\n",
        "print(\"Precision:\\t\", precision)\n",
        "print(\"Recall:\\t\\t\", recall)\n",
        "print(\"F1 Score:\\t\", f1score)"
      ],
      "execution_count": 41,
      "outputs": [
        {
          "output_type": "stream",
          "text": [
            "Train Accuracy:\t 0.9574999809265137\n",
            "Val Accuracy:\t 0.8999999761581421\n",
            "Test Accuracy:\t 0.8701923076923077\n",
            "Precision:\t [0.88       0.73770492 0.95918367 0.9375    ]\n",
            "Recall:\t\t [0.84615385 0.86538462 0.90384615 0.86538462]\n",
            "F1 Score:\t [0.8627451  0.79646018 0.93069307 0.9       ]\n"
          ],
          "name": "stdout"
        }
      ]
    },
    {
      "cell_type": "markdown",
      "metadata": {
        "id": "D7raPhpKQU3O"
      },
      "source": [
        "### Fine tuning"
      ]
    },
    {
      "cell_type": "code",
      "metadata": {
        "colab": {
          "base_uri": "https://localhost:8080/"
        },
        "id": "XYJSj4pQM9E8",
        "outputId": "8a4b46c7-fd11-42d7-f5c0-23a7b43fc246"
      },
      "source": [
        "from keras.layers import Conv2D, MaxPool2D, Flatten\n",
        "\n",
        "last_layer = model.get_layer('block4_pool').output\n",
        "\n",
        "x = Conv2D(128, (3, 3))(last_layer)\n",
        "x = Conv2D(64, (3, 3))(x)\n",
        "x = MaxPool2D(pool_size=(2, 2))(x)\n",
        "x = Flatten(name='flatten')(x)\n",
        "x = Dense(128, activation='relu', name='fc1')(x)\n",
        "x = Dense(64, activation='relu', name='fc2')(x)\n",
        "out = Dense(4, activation='softmax', name='output')(x)  ## 4 classes\n",
        "model = Model(img_input, out)\n",
        "\n",
        "for layer in model.layers[:-6]:\n",
        "\tlayer.trainable = False\n",
        "\n",
        "model.summary()"
      ],
      "execution_count": 67,
      "outputs": [
        {
          "output_type": "stream",
          "text": [
            "Model: \"model_5\"\n",
            "_________________________________________________________________\n",
            "Layer (type)                 Output Shape              Param #   \n",
            "=================================================================\n",
            "input_3 (InputLayer)         [(None, 224, 224, 3)]     0         \n",
            "_________________________________________________________________\n",
            "block1_conv1 (Conv2D)        (None, 224, 224, 64)      1792      \n",
            "_________________________________________________________________\n",
            "block1_conv2 (Conv2D)        (None, 224, 224, 64)      36928     \n",
            "_________________________________________________________________\n",
            "block1_pool (MaxPooling2D)   (None, 112, 112, 64)      0         \n",
            "_________________________________________________________________\n",
            "block2_conv1 (Conv2D)        (None, 112, 112, 128)     73856     \n",
            "_________________________________________________________________\n",
            "block2_conv2 (Conv2D)        (None, 112, 112, 128)     147584    \n",
            "_________________________________________________________________\n",
            "block2_pool (MaxPooling2D)   (None, 56, 56, 128)       0         \n",
            "_________________________________________________________________\n",
            "block3_conv1 (Conv2D)        (None, 56, 56, 256)       295168    \n",
            "_________________________________________________________________\n",
            "block3_conv2 (Conv2D)        (None, 56, 56, 256)       590080    \n",
            "_________________________________________________________________\n",
            "block3_conv3 (Conv2D)        (None, 56, 56, 256)       590080    \n",
            "_________________________________________________________________\n",
            "block3_pool (MaxPooling2D)   (None, 28, 28, 256)       0         \n",
            "_________________________________________________________________\n",
            "block4_conv1 (Conv2D)        (None, 28, 28, 512)       1180160   \n",
            "_________________________________________________________________\n",
            "block4_conv2 (Conv2D)        (None, 28, 28, 512)       2359808   \n",
            "_________________________________________________________________\n",
            "block4_conv3 (Conv2D)        (None, 28, 28, 512)       2359808   \n",
            "_________________________________________________________________\n",
            "block4_pool (MaxPooling2D)   (None, 14, 14, 512)       0         \n",
            "_________________________________________________________________\n",
            "conv2d_8 (Conv2D)            (None, 12, 12, 128)       589952    \n",
            "_________________________________________________________________\n",
            "conv2d_9 (Conv2D)            (None, 10, 10, 64)        73792     \n",
            "_________________________________________________________________\n",
            "max_pooling2d_4 (MaxPooling2 (None, 5, 5, 64)          0         \n",
            "_________________________________________________________________\n",
            "flatten (Flatten)            (None, 1600)              0         \n",
            "_________________________________________________________________\n",
            "fc1 (Dense)                  (None, 128)               204928    \n",
            "_________________________________________________________________\n",
            "fc2 (Dense)                  (None, 64)                8256      \n",
            "_________________________________________________________________\n",
            "output (Dense)               (None, 4)                 260       \n",
            "=================================================================\n",
            "Total params: 8,512,452\n",
            "Trainable params: 287,236\n",
            "Non-trainable params: 8,225,216\n",
            "_________________________________________________________________\n"
          ],
          "name": "stdout"
        }
      ]
    },
    {
      "cell_type": "code",
      "metadata": {
        "id": "49l84PJWOShN"
      },
      "source": [
        "model.compile(loss='sparse_categorical_crossentropy',\n",
        "              optimizer='adam',\n",
        "              metrics=['accuracy'])"
      ],
      "execution_count": 68,
      "outputs": []
    },
    {
      "cell_type": "code",
      "metadata": {
        "id": "0KHJv74DObuR"
      },
      "source": [
        "from tensorflow.keras.callbacks import EarlyStopping, ModelCheckpoint\n",
        "my_callbacks = [\n",
        "    EarlyStopping(monitor=\"val_loss\", patience=10, restore_best_weights=True),\n",
        "    ModelCheckpoint(filepath='vgg16_model.h5', save_best_only=True),\n",
        "]"
      ],
      "execution_count": 69,
      "outputs": []
    },
    {
      "cell_type": "code",
      "metadata": {
        "colab": {
          "base_uri": "https://localhost:8080/"
        },
        "id": "XqqrRxf6Oed_",
        "outputId": "d96ea896-ffcd-473d-fa5a-c343c7c1755e"
      },
      "source": [
        "history = model.fit(train_X, train_y,\n",
        "                               batch_size=10,\n",
        "                               epochs=10, \n",
        "                               validation_data=(val_X, val_y),\n",
        "                               callbacks=my_callbacks)"
      ],
      "execution_count": 70,
      "outputs": [
        {
          "output_type": "stream",
          "text": [
            "Epoch 1/10\n",
            "40/40 [==============================] - 7s 163ms/step - loss: 1.9598 - accuracy: 0.4314 - val_loss: 0.6227 - val_accuracy: 0.7150\n",
            "Epoch 2/10\n",
            "40/40 [==============================] - 6s 155ms/step - loss: 0.2015 - accuracy: 0.9258 - val_loss: 0.5925 - val_accuracy: 0.7950\n",
            "Epoch 3/10\n",
            "40/40 [==============================] - 6s 153ms/step - loss: 0.0436 - accuracy: 0.9895 - val_loss: 0.4431 - val_accuracy: 0.8300\n",
            "Epoch 4/10\n",
            "40/40 [==============================] - 6s 154ms/step - loss: 0.0026 - accuracy: 1.0000 - val_loss: 0.4351 - val_accuracy: 0.8400\n",
            "Epoch 5/10\n",
            "40/40 [==============================] - 6s 154ms/step - loss: 0.0013 - accuracy: 1.0000 - val_loss: 0.4336 - val_accuracy: 0.8300\n",
            "Epoch 6/10\n",
            "40/40 [==============================] - 6s 154ms/step - loss: 0.0010 - accuracy: 1.0000 - val_loss: 0.4373 - val_accuracy: 0.8300\n",
            "Epoch 7/10\n",
            "40/40 [==============================] - 6s 154ms/step - loss: 8.4149e-04 - accuracy: 1.0000 - val_loss: 0.4366 - val_accuracy: 0.8300\n",
            "Epoch 8/10\n",
            "40/40 [==============================] - 6s 154ms/step - loss: 6.8742e-04 - accuracy: 1.0000 - val_loss: 0.4386 - val_accuracy: 0.8300\n",
            "Epoch 9/10\n",
            "40/40 [==============================] - 6s 154ms/step - loss: 5.9253e-04 - accuracy: 1.0000 - val_loss: 0.4417 - val_accuracy: 0.8400\n",
            "Epoch 10/10\n",
            "40/40 [==============================] - 6s 153ms/step - loss: 4.3664e-04 - accuracy: 1.0000 - val_loss: 0.4466 - val_accuracy: 0.8350\n"
          ],
          "name": "stdout"
        }
      ]
    },
    {
      "cell_type": "code",
      "metadata": {
        "colab": {
          "base_uri": "https://localhost:8080/"
        },
        "id": "fbhCRuTYQH-X",
        "outputId": "34ed7128-e555-499a-8528-19887db9a544"
      },
      "source": [
        "from sklearn.metrics import accuracy_score\n",
        "\n",
        "## Test Accuracy\n",
        "predictions = model.predict(test_X)\n",
        "\n",
        "ypred = np.argmax(predictions, axis=1)\n",
        "\n",
        "test_acc = accuracy_score(test_y, ypred)\n",
        "\n",
        "from sklearn.metrics import precision_recall_fscore_support, roc_auc_score\n",
        "\n",
        "precision, recall, f1score, _ = precision_recall_fscore_support(test_y, ypred)\n",
        "\n",
        "print(\"Train Accuracy:\\t\", acc[-1])\n",
        "print(\"Val Accuracy:\\t\", val_acc[-1])\n",
        "print(\"Test Accuracy:\\t\", test_acc)\n",
        "print(\"Precision:\\t\", precision)\n",
        "print(\"Recall:\\t\\t\", recall)\n",
        "print(\"F1 Score:\\t\", f1score)"
      ],
      "execution_count": 71,
      "outputs": [
        {
          "output_type": "stream",
          "text": [
            "Train Accuracy:\t 0.9574999809265137\n",
            "Val Accuracy:\t 0.8999999761581421\n",
            "Test Accuracy:\t 0.8076923076923077\n",
            "Precision:\t [0.74074074 0.76190476 0.88679245 0.83050847]\n",
            "Recall:\t\t [0.76923077 0.61538462 0.90384615 0.94230769]\n",
            "F1 Score:\t [0.75471698 0.68085106 0.8952381  0.88288288]\n"
          ],
          "name": "stdout"
        }
      ]
    },
    {
      "cell_type": "markdown",
      "metadata": {
        "id": "wQCaizKIPDMH"
      },
      "source": [
        "## VGG19"
      ]
    },
    {
      "cell_type": "code",
      "metadata": {
        "colab": {
          "base_uri": "https://localhost:8080/"
        },
        "id": "n8aV0mUjPOok",
        "outputId": "1f599899-57a4-42b2-8495-799c8ce2b7c0"
      },
      "source": [
        "from tensorflow.keras.applications import VGG19\n",
        "\n",
        "model = VGG19(\n",
        "    include_top=True,\n",
        "    weights=\"imagenet\",\n",
        "    input_tensor=img_input,\n",
        "    input_shape=None,\n",
        "    pooling=None,\n",
        "    classes=1000,\n",
        "    classifier_activation=\"softmax\")\n",
        "model.summary()"
      ],
      "execution_count": 84,
      "outputs": [
        {
          "output_type": "stream",
          "text": [
            "Model: \"vgg19\"\n",
            "_________________________________________________________________\n",
            "Layer (type)                 Output Shape              Param #   \n",
            "=================================================================\n",
            "input_3 (InputLayer)         [(None, 224, 224, 3)]     0         \n",
            "_________________________________________________________________\n",
            "block1_conv1 (Conv2D)        (None, 224, 224, 64)      1792      \n",
            "_________________________________________________________________\n",
            "block1_conv2 (Conv2D)        (None, 224, 224, 64)      36928     \n",
            "_________________________________________________________________\n",
            "block1_pool (MaxPooling2D)   (None, 112, 112, 64)      0         \n",
            "_________________________________________________________________\n",
            "block2_conv1 (Conv2D)        (None, 112, 112, 128)     73856     \n",
            "_________________________________________________________________\n",
            "block2_conv2 (Conv2D)        (None, 112, 112, 128)     147584    \n",
            "_________________________________________________________________\n",
            "block2_pool (MaxPooling2D)   (None, 56, 56, 128)       0         \n",
            "_________________________________________________________________\n",
            "block3_conv1 (Conv2D)        (None, 56, 56, 256)       295168    \n",
            "_________________________________________________________________\n",
            "block3_conv2 (Conv2D)        (None, 56, 56, 256)       590080    \n",
            "_________________________________________________________________\n",
            "block3_conv3 (Conv2D)        (None, 56, 56, 256)       590080    \n",
            "_________________________________________________________________\n",
            "block3_conv4 (Conv2D)        (None, 56, 56, 256)       590080    \n",
            "_________________________________________________________________\n",
            "block3_pool (MaxPooling2D)   (None, 28, 28, 256)       0         \n",
            "_________________________________________________________________\n",
            "block4_conv1 (Conv2D)        (None, 28, 28, 512)       1180160   \n",
            "_________________________________________________________________\n",
            "block4_conv2 (Conv2D)        (None, 28, 28, 512)       2359808   \n",
            "_________________________________________________________________\n",
            "block4_conv3 (Conv2D)        (None, 28, 28, 512)       2359808   \n",
            "_________________________________________________________________\n",
            "block4_conv4 (Conv2D)        (None, 28, 28, 512)       2359808   \n",
            "_________________________________________________________________\n",
            "block4_pool (MaxPooling2D)   (None, 14, 14, 512)       0         \n",
            "_________________________________________________________________\n",
            "block5_conv1 (Conv2D)        (None, 14, 14, 512)       2359808   \n",
            "_________________________________________________________________\n",
            "block5_conv2 (Conv2D)        (None, 14, 14, 512)       2359808   \n",
            "_________________________________________________________________\n",
            "block5_conv3 (Conv2D)        (None, 14, 14, 512)       2359808   \n",
            "_________________________________________________________________\n",
            "block5_conv4 (Conv2D)        (None, 14, 14, 512)       2359808   \n",
            "_________________________________________________________________\n",
            "block5_pool (MaxPooling2D)   (None, 7, 7, 512)         0         \n",
            "_________________________________________________________________\n",
            "flatten (Flatten)            (None, 25088)             0         \n",
            "_________________________________________________________________\n",
            "fc1 (Dense)                  (None, 4096)              102764544 \n",
            "_________________________________________________________________\n",
            "fc2 (Dense)                  (None, 4096)              16781312  \n",
            "_________________________________________________________________\n",
            "predictions (Dense)          (None, 1000)              4097000   \n",
            "=================================================================\n",
            "Total params: 143,667,240\n",
            "Trainable params: 143,667,240\n",
            "Non-trainable params: 0\n",
            "_________________________________________________________________\n"
          ],
          "name": "stdout"
        }
      ]
    },
    {
      "cell_type": "markdown",
      "metadata": {
        "id": "fma7s5QmPmIK"
      },
      "source": [
        "### Feature extraction"
      ]
    },
    {
      "cell_type": "code",
      "metadata": {
        "colab": {
          "base_uri": "https://localhost:8080/"
        },
        "id": "8lIzSpIuPoVK",
        "outputId": "3aa40b3a-df35-4c97-e528-53d2b9aa0be0"
      },
      "source": [
        "last_layer = model.get_layer('fc2').output\n",
        "out = Dense(4, activation='softmax', name='output')(last_layer)  # 4 classes\n",
        "model = Model(img_input, out)\n",
        "\n",
        "for layer in model.layers[:-1]:\n",
        "\tlayer.trainable = False\n",
        "\n",
        "model.summary()"
      ],
      "execution_count": 85,
      "outputs": [
        {
          "output_type": "stream",
          "text": [
            "Model: \"model_9\"\n",
            "_________________________________________________________________\n",
            "Layer (type)                 Output Shape              Param #   \n",
            "=================================================================\n",
            "input_3 (InputLayer)         [(None, 224, 224, 3)]     0         \n",
            "_________________________________________________________________\n",
            "block1_conv1 (Conv2D)        (None, 224, 224, 64)      1792      \n",
            "_________________________________________________________________\n",
            "block1_conv2 (Conv2D)        (None, 224, 224, 64)      36928     \n",
            "_________________________________________________________________\n",
            "block1_pool (MaxPooling2D)   (None, 112, 112, 64)      0         \n",
            "_________________________________________________________________\n",
            "block2_conv1 (Conv2D)        (None, 112, 112, 128)     73856     \n",
            "_________________________________________________________________\n",
            "block2_conv2 (Conv2D)        (None, 112, 112, 128)     147584    \n",
            "_________________________________________________________________\n",
            "block2_pool (MaxPooling2D)   (None, 56, 56, 128)       0         \n",
            "_________________________________________________________________\n",
            "block3_conv1 (Conv2D)        (None, 56, 56, 256)       295168    \n",
            "_________________________________________________________________\n",
            "block3_conv2 (Conv2D)        (None, 56, 56, 256)       590080    \n",
            "_________________________________________________________________\n",
            "block3_conv3 (Conv2D)        (None, 56, 56, 256)       590080    \n",
            "_________________________________________________________________\n",
            "block3_conv4 (Conv2D)        (None, 56, 56, 256)       590080    \n",
            "_________________________________________________________________\n",
            "block3_pool (MaxPooling2D)   (None, 28, 28, 256)       0         \n",
            "_________________________________________________________________\n",
            "block4_conv1 (Conv2D)        (None, 28, 28, 512)       1180160   \n",
            "_________________________________________________________________\n",
            "block4_conv2 (Conv2D)        (None, 28, 28, 512)       2359808   \n",
            "_________________________________________________________________\n",
            "block4_conv3 (Conv2D)        (None, 28, 28, 512)       2359808   \n",
            "_________________________________________________________________\n",
            "block4_conv4 (Conv2D)        (None, 28, 28, 512)       2359808   \n",
            "_________________________________________________________________\n",
            "block4_pool (MaxPooling2D)   (None, 14, 14, 512)       0         \n",
            "_________________________________________________________________\n",
            "block5_conv1 (Conv2D)        (None, 14, 14, 512)       2359808   \n",
            "_________________________________________________________________\n",
            "block5_conv2 (Conv2D)        (None, 14, 14, 512)       2359808   \n",
            "_________________________________________________________________\n",
            "block5_conv3 (Conv2D)        (None, 14, 14, 512)       2359808   \n",
            "_________________________________________________________________\n",
            "block5_conv4 (Conv2D)        (None, 14, 14, 512)       2359808   \n",
            "_________________________________________________________________\n",
            "block5_pool (MaxPooling2D)   (None, 7, 7, 512)         0         \n",
            "_________________________________________________________________\n",
            "flatten (Flatten)            (None, 25088)             0         \n",
            "_________________________________________________________________\n",
            "fc1 (Dense)                  (None, 4096)              102764544 \n",
            "_________________________________________________________________\n",
            "fc2 (Dense)                  (None, 4096)              16781312  \n",
            "_________________________________________________________________\n",
            "output (Dense)               (None, 4)                 16388     \n",
            "=================================================================\n",
            "Total params: 139,586,628\n",
            "Trainable params: 16,388\n",
            "Non-trainable params: 139,570,240\n",
            "_________________________________________________________________\n"
          ],
          "name": "stdout"
        }
      ]
    },
    {
      "cell_type": "code",
      "metadata": {
        "id": "7qSwlFRNQh3X"
      },
      "source": [
        "model.compile(loss='sparse_categorical_crossentropy',\n",
        "              optimizer='adam',\n",
        "              metrics=['accuracy'])"
      ],
      "execution_count": 86,
      "outputs": []
    },
    {
      "cell_type": "code",
      "metadata": {
        "id": "lj-N8zxhQlF0"
      },
      "source": [
        "from tensorflow.keras.callbacks import EarlyStopping, ModelCheckpoint\n",
        "my_callbacks = [\n",
        "    EarlyStopping(monitor=\"val_loss\", patience=10, restore_best_weights=True),\n",
        "    ModelCheckpoint(filepath='vgg16_model.h5', save_best_only=True),\n",
        "]"
      ],
      "execution_count": 87,
      "outputs": []
    },
    {
      "cell_type": "code",
      "metadata": {
        "colab": {
          "base_uri": "https://localhost:8080/"
        },
        "id": "sl0D-TIVQnpC",
        "outputId": "fb7c07d0-93aa-48c1-9555-65a15d1471a4"
      },
      "source": [
        "history = model.fit(train_X, train_y,\n",
        "                               batch_size=10,\n",
        "                               epochs=10, \n",
        "                               validation_data=(val_X, val_y),\n",
        "                               callbacks=my_callbacks)"
      ],
      "execution_count": 88,
      "outputs": [
        {
          "output_type": "stream",
          "text": [
            "Epoch 1/10\n",
            "40/40 [==============================] - 10s 225ms/step - loss: 1.6356 - accuracy: 0.3171 - val_loss: 0.8379 - val_accuracy: 0.6600\n",
            "Epoch 2/10\n",
            "40/40 [==============================] - 9s 216ms/step - loss: 0.8207 - accuracy: 0.6844 - val_loss: 0.6482 - val_accuracy: 0.7600\n",
            "Epoch 3/10\n",
            "40/40 [==============================] - 9s 217ms/step - loss: 0.7158 - accuracy: 0.6986 - val_loss: 0.5783 - val_accuracy: 0.7750\n",
            "Epoch 4/10\n",
            "40/40 [==============================] - 9s 217ms/step - loss: 0.5797 - accuracy: 0.8027 - val_loss: 0.5637 - val_accuracy: 0.7700\n",
            "Epoch 5/10\n",
            "40/40 [==============================] - 9s 218ms/step - loss: 0.5475 - accuracy: 0.8086 - val_loss: 0.4867 - val_accuracy: 0.8150\n",
            "Epoch 6/10\n",
            "40/40 [==============================] - 9s 217ms/step - loss: 0.7191 - accuracy: 0.7004 - val_loss: 0.5492 - val_accuracy: 0.7500\n",
            "Epoch 7/10\n",
            "40/40 [==============================] - 9s 216ms/step - loss: 0.3971 - accuracy: 0.8753 - val_loss: 0.4626 - val_accuracy: 0.8100\n",
            "Epoch 8/10\n",
            "40/40 [==============================] - 9s 218ms/step - loss: 0.3692 - accuracy: 0.8581 - val_loss: 0.4547 - val_accuracy: 0.8250\n",
            "Epoch 9/10\n",
            "40/40 [==============================] - 9s 218ms/step - loss: 0.4345 - accuracy: 0.8443 - val_loss: 0.5007 - val_accuracy: 0.7800\n",
            "Epoch 10/10\n",
            "40/40 [==============================] - 9s 216ms/step - loss: 0.3606 - accuracy: 0.8795 - val_loss: 0.3514 - val_accuracy: 0.8600\n"
          ],
          "name": "stdout"
        }
      ]
    },
    {
      "cell_type": "code",
      "metadata": {
        "colab": {
          "base_uri": "https://localhost:8080/"
        },
        "id": "2hCdgAWTe8ex",
        "outputId": "d345d741-0be7-4466-ef58-92593fcd216d"
      },
      "source": [
        "from sklearn.metrics import accuracy_score\n",
        "\n",
        "## Test Accuracy\n",
        "predictions = model.predict(test_X)\n",
        "\n",
        "ypred = np.argmax(predictions, axis=1)\n",
        "\n",
        "test_acc = accuracy_score(test_y, ypred)\n",
        "\n",
        "from sklearn.metrics import precision_recall_fscore_support\n",
        "\n",
        "precision, recall, f1score, _ = precision_recall_fscore_support(test_y, ypred)\n",
        "\n",
        "print(\"Train Accuracy:\\t\", acc[-1])\n",
        "print(\"Val Accuracy:\\t\", val_acc[-1])\n",
        "print(\"Test Accuracy:\\t\", test_acc)\n",
        "print(\"Precision:\\t\", precision)\n",
        "print(\"Recall:\\t\\t\", recall)\n",
        "print(\"F1 Score:\\t\", f1score)"
      ],
      "execution_count": 89,
      "outputs": [
        {
          "output_type": "stream",
          "text": [
            "Train Accuracy:\t 0.9574999809265137\n",
            "Val Accuracy:\t 0.8999999761581421\n",
            "Test Accuracy:\t 0.8653846153846154\n",
            "Precision:\t [0.8490566  0.84444444 0.91071429 0.85185185]\n",
            "Recall:\t\t [0.86538462 0.73076923 0.98076923 0.88461538]\n",
            "F1 Score:\t [0.85714286 0.78350515 0.94444444 0.86792453]\n"
          ],
          "name": "stdout"
        }
      ]
    },
    {
      "cell_type": "markdown",
      "metadata": {
        "id": "89l5M5r9PpVH"
      },
      "source": [
        "### Fine tuning"
      ]
    },
    {
      "cell_type": "code",
      "metadata": {
        "colab": {
          "base_uri": "https://localhost:8080/"
        },
        "id": "eZEiZ_K5Puip",
        "outputId": "8c857525-2528-4e8d-fc6b-ff11324f050f"
      },
      "source": [
        "from keras.layers import Conv2D, MaxPool2D, Flatten\n",
        "\n",
        "last_layer = model.get_layer('block4_pool').output\n",
        "\n",
        "x = Conv2D(128, (3, 3))(last_layer)\n",
        "x = Conv2D(64, (3, 3))(x)\n",
        "x = MaxPool2D(pool_size=(2, 2))(x)\n",
        "x = Flatten(name='flatten')(x)\n",
        "x = Dense(128, activation='relu', name='fc1')(x)\n",
        "x = Dense(64, activation='relu', name='fc2')(x)\n",
        "out = Dense(4, activation='softmax', name='output')(x)  ## 4 classes\n",
        "model = Model(img_input, out)\n",
        "\n",
        "for layer in model.layers[:-6]:\n",
        "\tlayer.trainable = False\n",
        "\n",
        "model.summary()"
      ],
      "execution_count": 79,
      "outputs": [
        {
          "output_type": "stream",
          "text": [
            "Model: \"model_8\"\n",
            "_________________________________________________________________\n",
            "Layer (type)                 Output Shape              Param #   \n",
            "=================================================================\n",
            "input_3 (InputLayer)         [(None, 224, 224, 3)]     0         \n",
            "_________________________________________________________________\n",
            "block1_conv1 (Conv2D)        (None, 224, 224, 64)      1792      \n",
            "_________________________________________________________________\n",
            "block1_conv2 (Conv2D)        (None, 224, 224, 64)      36928     \n",
            "_________________________________________________________________\n",
            "block1_pool (MaxPooling2D)   (None, 112, 112, 64)      0         \n",
            "_________________________________________________________________\n",
            "block2_conv1 (Conv2D)        (None, 112, 112, 128)     73856     \n",
            "_________________________________________________________________\n",
            "block2_conv2 (Conv2D)        (None, 112, 112, 128)     147584    \n",
            "_________________________________________________________________\n",
            "block2_pool (MaxPooling2D)   (None, 56, 56, 128)       0         \n",
            "_________________________________________________________________\n",
            "block3_conv1 (Conv2D)        (None, 56, 56, 256)       295168    \n",
            "_________________________________________________________________\n",
            "block3_conv2 (Conv2D)        (None, 56, 56, 256)       590080    \n",
            "_________________________________________________________________\n",
            "block3_conv3 (Conv2D)        (None, 56, 56, 256)       590080    \n",
            "_________________________________________________________________\n",
            "block3_conv4 (Conv2D)        (None, 56, 56, 256)       590080    \n",
            "_________________________________________________________________\n",
            "block3_pool (MaxPooling2D)   (None, 28, 28, 256)       0         \n",
            "_________________________________________________________________\n",
            "block4_conv1 (Conv2D)        (None, 28, 28, 512)       1180160   \n",
            "_________________________________________________________________\n",
            "block4_conv2 (Conv2D)        (None, 28, 28, 512)       2359808   \n",
            "_________________________________________________________________\n",
            "block4_conv3 (Conv2D)        (None, 28, 28, 512)       2359808   \n",
            "_________________________________________________________________\n",
            "block4_conv4 (Conv2D)        (None, 28, 28, 512)       2359808   \n",
            "_________________________________________________________________\n",
            "block4_pool (MaxPooling2D)   (None, 14, 14, 512)       0         \n",
            "_________________________________________________________________\n",
            "conv2d_12 (Conv2D)           (None, 12, 12, 128)       589952    \n",
            "_________________________________________________________________\n",
            "conv2d_13 (Conv2D)           (None, 10, 10, 64)        73792     \n",
            "_________________________________________________________________\n",
            "max_pooling2d_6 (MaxPooling2 (None, 5, 5, 64)          0         \n",
            "_________________________________________________________________\n",
            "flatten (Flatten)            (None, 1600)              0         \n",
            "_________________________________________________________________\n",
            "fc1 (Dense)                  (None, 128)               204928    \n",
            "_________________________________________________________________\n",
            "fc2 (Dense)                  (None, 64)                8256      \n",
            "_________________________________________________________________\n",
            "output (Dense)               (None, 4)                 260       \n",
            "=================================================================\n",
            "Total params: 11,462,340\n",
            "Trainable params: 287,236\n",
            "Non-trainable params: 11,175,104\n",
            "_________________________________________________________________\n"
          ],
          "name": "stdout"
        }
      ]
    },
    {
      "cell_type": "code",
      "metadata": {
        "id": "IgaVHbIJRqDy"
      },
      "source": [
        "model.compile(loss='sparse_categorical_crossentropy',\n",
        "              optimizer='adam',\n",
        "              metrics=['accuracy'])"
      ],
      "execution_count": 80,
      "outputs": []
    },
    {
      "cell_type": "code",
      "metadata": {
        "id": "o-LeX630RsYQ"
      },
      "source": [
        "from tensorflow.keras.callbacks import EarlyStopping, ModelCheckpoint\n",
        "my_callbacks = [\n",
        "    EarlyStopping(monitor=\"val_loss\", patience=10, restore_best_weights=True),\n",
        "    ModelCheckpoint(filepath='vgg16_model.h5', save_best_only=True),\n",
        "]"
      ],
      "execution_count": 81,
      "outputs": []
    },
    {
      "cell_type": "code",
      "metadata": {
        "colab": {
          "base_uri": "https://localhost:8080/"
        },
        "id": "1IrJVdBDRuhP",
        "outputId": "b724da63-c570-4614-88c2-2c72f09a02f7"
      },
      "source": [
        "history = model.fit(train_X, train_y,\n",
        "                               batch_size=10,\n",
        "                               epochs=10, \n",
        "                               validation_data=(val_X, val_y),\n",
        "                               callbacks=my_callbacks)"
      ],
      "execution_count": 82,
      "outputs": [
        {
          "output_type": "stream",
          "text": [
            "Epoch 1/10\n",
            "40/40 [==============================] - 8s 192ms/step - loss: 4.1509 - accuracy: 0.3799 - val_loss: 1.0595 - val_accuracy: 0.6700\n",
            "Epoch 2/10\n",
            "40/40 [==============================] - 7s 185ms/step - loss: 0.1999 - accuracy: 0.9285 - val_loss: 1.2210 - val_accuracy: 0.6650\n",
            "Epoch 3/10\n",
            "40/40 [==============================] - 7s 184ms/step - loss: 0.1058 - accuracy: 0.9637 - val_loss: 0.9058 - val_accuracy: 0.7100\n",
            "Epoch 4/10\n",
            "40/40 [==============================] - 7s 183ms/step - loss: 0.0096 - accuracy: 1.0000 - val_loss: 0.9001 - val_accuracy: 0.7000\n",
            "Epoch 5/10\n",
            "40/40 [==============================] - 7s 183ms/step - loss: 0.0016 - accuracy: 1.0000 - val_loss: 0.9194 - val_accuracy: 0.7250\n",
            "Epoch 6/10\n",
            "40/40 [==============================] - 7s 183ms/step - loss: 0.0010 - accuracy: 1.0000 - val_loss: 0.9310 - val_accuracy: 0.7150\n",
            "Epoch 7/10\n",
            "40/40 [==============================] - 7s 184ms/step - loss: 8.2877e-04 - accuracy: 1.0000 - val_loss: 0.9392 - val_accuracy: 0.7050\n",
            "Epoch 8/10\n",
            "40/40 [==============================] - 7s 183ms/step - loss: 6.3268e-04 - accuracy: 1.0000 - val_loss: 0.9456 - val_accuracy: 0.7050\n",
            "Epoch 9/10\n",
            "40/40 [==============================] - 7s 183ms/step - loss: 4.8907e-04 - accuracy: 1.0000 - val_loss: 0.9469 - val_accuracy: 0.7100\n",
            "Epoch 10/10\n",
            "40/40 [==============================] - 7s 183ms/step - loss: 5.0790e-04 - accuracy: 1.0000 - val_loss: 0.9579 - val_accuracy: 0.7100\n"
          ],
          "name": "stdout"
        }
      ]
    },
    {
      "cell_type": "code",
      "metadata": {
        "colab": {
          "base_uri": "https://localhost:8080/"
        },
        "id": "cPw4Q1R4eosW",
        "outputId": "af6bc858-9ed6-4ac5-8a9b-6984337f206f"
      },
      "source": [
        "from sklearn.metrics import accuracy_score\n",
        "\n",
        "## Test Accuracy\n",
        "predictions = model.predict(test_X)\n",
        "\n",
        "ypred = np.argmax(predictions, axis=1)\n",
        "\n",
        "test_acc = accuracy_score(test_y, ypred)\n",
        "\n",
        "from sklearn.metrics import precision_recall_fscore_support\n",
        "\n",
        "precision, recall, f1score, _ = precision_recall_fscore_support(test_y, ypred)\n",
        "\n",
        "print(\"Train Accuracy:\\t\", acc[-1])\n",
        "print(\"Val Accuracy:\\t\", val_acc[-1])\n",
        "print(\"Test Accuracy:\\t\", test_acc)\n",
        "print(\"Precision:\\t\", precision)\n",
        "print(\"Recall:\\t\\t\", recall)\n",
        "print(\"F1 Score:\\t\", f1score)"
      ],
      "execution_count": 83,
      "outputs": [
        {
          "output_type": "stream",
          "text": [
            "Train Accuracy:\t 0.9574999809265137\n",
            "Val Accuracy:\t 0.8999999761581421\n",
            "Test Accuracy:\t 0.7307692307692307\n",
            "Precision:\t [0.6440678  0.71428571 0.75       0.81481481]\n",
            "Recall:\t\t [0.73076923 0.48076923 0.86538462 0.84615385]\n",
            "F1 Score:\t [0.68468468 0.57471264 0.80357143 0.83018868]\n"
          ],
          "name": "stdout"
        }
      ]
    }
  ]
}