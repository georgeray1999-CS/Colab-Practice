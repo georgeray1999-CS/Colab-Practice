{
  "nbformat": 4,
  "nbformat_minor": 0,
  "metadata": {
    "colab": {
      "name": "Lab_2_exercises.ipynb",
      "provenance": [],
      "collapsed_sections": [],
      "include_colab_link": true
    },
    "kernelspec": {
      "display_name": "Python 3",
      "language": "python",
      "name": "python3"
    },
    "language_info": {
      "codemirror_mode": {
        "name": "ipython",
        "version": 3
      },
      "file_extension": ".py",
      "mimetype": "text/x-python",
      "name": "python",
      "nbconvert_exporter": "python",
      "pygments_lexer": "ipython3",
      "version": "3.7.6"
    },
    "pycharm": {
      "stem_cell": {
        "cell_type": "raw",
        "metadata": {
          "collapsed": false
        },
        "source": []
      }
    }
  },
  "cells": [
    {
      "cell_type": "markdown",
      "metadata": {
        "id": "view-in-github",
        "colab_type": "text"
      },
      "source": [
        "<a href=\"https://colab.research.google.com/github/georgeray1999-CS/Colab-Practice/blob/main/Lab_2_exercises.ipynb\" target=\"_parent\"><img src=\"https://colab.research.google.com/assets/colab-badge.svg\" alt=\"Open In Colab\"/></a>"
      ]
    },
    {
      "cell_type": "markdown",
      "metadata": {
        "id": "nCi_99yMYIb1"
      },
      "source": [
        "In this notebook you'll create your own bootstrap function following the bootstrap algorithm (check the lecture notes!)"
      ]
    },
    {
      "cell_type": "code",
      "metadata": {
        "id": "LY5zujI2YC37",
        "pycharm": {
          "name": "#%%# Imports\n"
        }
      },
      "source": [
        "import matplotlib\n",
        "import pandas as pd\n",
        "import seaborn as sns\n",
        "import numpy as np"
      ],
      "execution_count": 1,
      "outputs": []
    },
    {
      "cell_type": "code",
      "metadata": {
        "id": "Eqkwj4SMY38t",
        "colab": {
          "base_uri": "https://localhost:8080/"
        },
        "outputId": "20479434-0688-4090-850b-5a23e52c3283"
      },
      "source": [
        "# Load the data\n",
        "df = pd.read_csv('https://raw.githubusercontent.com/albanda/CE888/master/lab2%20-%20bootstrap/customers.csv')\n",
        "data = df.values.T[1]\n",
        "print(df)"
      ],
      "execution_count": 2,
      "outputs": [
        {
          "output_type": "stream",
          "text": [
            "    Day   Millons of pounds in sales\n",
            "0     1                          2.0\n",
            "1     2                          8.0\n",
            "2     3                         20.0\n",
            "3     4                         13.0\n",
            "4     5                          5.0\n",
            "5     6                          9.0\n",
            "6     7                         10.0\n",
            "7     8                          8.0\n",
            "8     9                         22.0\n",
            "9    10                         10.0\n",
            "10   11                          2.0\n",
            "11   12                          4.0\n",
            "12   13                          7.0\n",
            "13   14                          9.0\n"
          ],
          "name": "stdout"
        }
      ]
    },
    {
      "cell_type": "code",
      "metadata": {
        "colab": {
          "base_uri": "https://localhost:8080/"
        },
        "id": "8Q807c9DC7we",
        "outputId": "e2f4dd81-9632-4308-f6ef-8399df597fb8"
      },
      "source": [
        "print(data)"
      ],
      "execution_count": null,
      "outputs": [
        {
          "output_type": "stream",
          "text": [
            "[ 2.  8. 20. 13.  5.  9. 10.  8. 22. 10.  2.  4.  7.  9.]\n"
          ],
          "name": "stdout"
        }
      ]
    },
    {
      "cell_type": "code",
      "metadata": {
        "id": "Gxvc_bScYC4H",
        "pycharm": {
          "name": "#%%\n"
        },
        "colab": {
          "base_uri": "https://localhost:8080/"
        },
        "outputId": "fb2ab89e-607e-48f7-ff93-1ea4fe7e01e2"
      },
      "source": [
        "# Checking the notes from the lecture, create here your own bootstrap function:\n",
        "\n",
        "# 1. Sample from the input array x to create an array of samples of shape (n_bootstraps, sample_size)\n",
        "# Hint: Check the function random.choice() on Numpy\n",
        "\n",
        "# 2. Calculate and save the mean of the array (this is \"data_mean\" that is returned by the function)\n",
        "\n",
        "# 3. Calculate the mean from each bootstrap (i.e., row) and store it.\n",
        "# (This should be an array of n_bootstraps values)\n",
        "\n",
        "# 4. Calculate the lower and upper bounds for a 95% CI (hint: check the percentile function on Numpy)\n",
        "\n",
        "# 5. Return data_mean, and the lower and upper bounds of your interval\n",
        "\n",
        "def bootstrap_mean(x, sample_size, n_bootstraps):\n",
        "  # initialise arrays\n",
        "  bs_array = []\n",
        "  bs_mean_array = []\n",
        "  bs_means = []\n",
        "\n",
        "  # iterate over the number of bootstraps to create\n",
        "  for bootstrap in range(n_bootstraps):\n",
        "\n",
        "    bs_sample = np.random.choice(x, size=sample_size, replace=True)  # create a singular bootstrap\n",
        "    bs_mean_array.extend(bs_sample)  # extend array with bootstrap values\n",
        "    bs_array.append(bs_sample)  # add bootstrap as another row in 'matrix' of bootstraps\n",
        "    bs_means.append(np.mean(bs_sample))  # add mean of bootstrap to array of previous bootstrap means\n",
        "\n",
        "  data_mean = np.mean(bs_mean_array)  # assign mean of all bootstrap means to data_mean value\n",
        "  conf_interval = np.percentile(bs_means, [2.5, 97.5])  # calculate lower an upper bounds of CI\n",
        "  lower = conf_interval[0]\n",
        "  upper = conf_interval[1]\n",
        "\n",
        "  return data_mean, lower, upper"
      ],
      "execution_count": null,
      "outputs": [
        {
          "output_type": "stream",
          "text": [
            "(5.22, 3.9225, 6.2325)\n"
          ],
          "name": "stdout"
        }
      ]
    },
    {
      "cell_type": "code",
      "metadata": {
        "id": "AN7sEOcMYC4P",
        "pycharm": {
          "name": "#%%\n"
        },
        "colab": {
          "base_uri": "https://localhost:8080/",
          "height": 454
        },
        "outputId": "87078e3f-3423-4b4b-8c89-b0bc21e77563"
      },
      "source": [
        "# Call your bootstrap function and plot the results\n",
        "\n",
        "boots = []\n",
        "for i in range(100, 50000, 1000):\n",
        "    boot = bootstrap_mean(data, data.shape[0], i)\n",
        "    boots.append([i, boot[0], \"mean\"])\n",
        "    boots.append([i, boot[1], \"lower\"])\n",
        "    boots.append([i, boot[2], \"upper\"])\n",
        "\n",
        "df_boot = pd.DataFrame(boots, columns=['Bootstrap Iterations', 'Mean', \"Value\"])\n",
        "sns_plot = sns.lmplot(df_boot.columns[0], df_boot.columns[1], data=df_boot, fit_reg=False, hue=\"Value\")\n",
        "\n",
        "sns_plot.axes[0, 0].set_ylim(0,)\n",
        "sns_plot.axes[0, 0].set_xlim(0, 100000)\n"
      ],
      "execution_count": null,
      "outputs": [
        {
          "output_type": "stream",
          "text": [
            "/usr/local/lib/python3.6/dist-packages/seaborn/_decorators.py:43: FutureWarning: Pass the following variables as keyword args: x, y. From version 0.12, the only valid positional argument will be `data`, and passing other arguments without an explicit keyword will result in an error or misinterpretation.\n",
            "  FutureWarning\n"
          ],
          "name": "stderr"
        },
        {
          "output_type": "execute_result",
          "data": {
            "text/plain": [
              "(0.0, 100000.0)"
            ]
          },
          "metadata": {
            "tags": []
          },
          "execution_count": 38
        },
        {
          "output_type": "display_data",
          "data": {
            "image/png": "[encoded data removed]",
            "text/plain": [
              "<Figure size 425.125x360 with 1 Axes>"
            ]
          },
          "metadata": {
            "tags": [],
            "needs_background": "light"
          }
        }
      ]
    },
    {
      "cell_type": "markdown",
      "metadata": {
        "id": "MjtP4e2_YC4V"
      },
      "source": [
        "\n",
        "Now, modify the bootstrap function you created above so that you can pass your desired confidence interval as a parameter.\n",
        "\n"
      ]
    },
    {
      "cell_type": "code",
      "metadata": {
        "id": "3K9j0FuGYhHs",
        "colab": {
          "base_uri": "https://localhost:8080/"
        },
        "outputId": "b0e2d1a3-2d78-4de4-ae7e-a0c9dab32961"
      },
      "source": [
        "def bootstrap_mean_ci(sample, sample_size, n_bootstraps, ci):\n",
        "  bs_array = []\n",
        "  bs_mean_array = []\n",
        "  bs_means = []\n",
        "\n",
        "  lower_threshold = (100 - ci) / 2\n",
        "  upper_threshold = 100 - ((100 - ci) / 2)\n",
        "\n",
        "  # iterate over the number of bootstraps to create\n",
        "  for bootstrap in range(n_bootstraps):\n",
        "\n",
        "    bs_sample = np.random.choice(sample, size=sample_size, replace=True)  # create a singular bootstrap\n",
        "    bs_mean_array.extend(bs_sample)  # extend array with bootstrap values\n",
        "    bs_array.append(bs_sample)  # add bootstrap as another row in 'matrix' of bootstraps\n",
        "    bs_means.append(np.mean(bs_sample))  # add mean of bootstrap to array of previous bootstrap means\n",
        "\n",
        "  data_mean = np.mean(bs_mean_array)  # assign mean of all bootstrap values to data_mean value\n",
        "  conf_interval = np.percentile(bs_means, [lower_threshold, upper_threshold])  # calculate lower an upper bounds of CI\n",
        "  lower = conf_interval[0]\n",
        "  upper = conf_interval[1]\n",
        "\n",
        "  return data_mean, lower, upper\n",
        "\n"
      ],
      "execution_count": 5,
      "outputs": [
        {
          "output_type": "stream",
          "text": [
            "(9.221278571428572, 6.785714285714286, 11.857142857142858)\n"
          ],
          "name": "stdout"
        }
      ]
    },
    {
      "cell_type": "code",
      "metadata": {
        "id": "uDnjq08GYl-C",
        "colab": {
          "base_uri": "https://localhost:8080/",
          "height": 454
        },
        "outputId": "e6403ffc-26bd-4392-fbbb-aa908be68e87"
      },
      "source": [
        "boots = []\n",
        "for i in range(100, 50000, 1000):\n",
        "    boot = bootstrap_mean_ci(data, data.shape[0], i, 80)\n",
        "    boots.append([i, boot[0], \"mean\"])\n",
        "    boots.append([i, boot[1], \"lower\"])\n",
        "    boots.append([i, boot[2], \"upper\"])\n",
        "\n",
        "df_boot = pd.DataFrame(boots, columns=['Boostrap Iterations', 'Mean', \"Value\"])\n",
        "sns_plot = sns.lmplot(df_boot.columns[0], df_boot.columns[1], data=df_boot, fit_reg=False, hue=\"Value\")\n",
        "\n",
        "sns_plot.axes[0, 0].set_ylim(0,)\n",
        "sns_plot.axes[0, 0].set_xlim(0, 100000)\n",
        "\n",
        "#sns_plot.savefig(\"bootstrap_confidence_80.pdf\", bbox_inches='tight')\n"
      ],
      "execution_count": null,
      "outputs": [
        {
          "output_type": "stream",
          "text": [
            "/usr/local/lib/python3.6/dist-packages/seaborn/_decorators.py:43: FutureWarning: Pass the following variables as keyword args: x, y. From version 0.12, the only valid positional argument will be `data`, and passing other arguments without an explicit keyword will result in an error or misinterpretation.\n",
            "  FutureWarning\n"
          ],
          "name": "stderr"
        },
        {
          "output_type": "execute_result",
          "data": {
            "text/plain": [
              "(0.0, 100000.0)"
            ]
          },
          "metadata": {
            "tags": []
          },
          "execution_count": 45
        },
        {
          "output_type": "display_data",
          "data": {
            "image/png": "[encoded data removed]",
            "text/plain": [
              "<Figure size 425.125x360 with 1 Axes>"
            ]
          },
          "metadata": {
            "tags": [],
            "needs_background": "light"
          }
        }
      ]
    },
    {
      "cell_type": "markdown",
      "metadata": {
        "id": "qjNgXW6wdd7r"
      },
      "source": [
        "# Vehicles dataset\n",
        "\n",
        "Now let's work on a different dataset, which is stored in the vehicles.csv file.\n"
      ]
    },
    {
      "cell_type": "code",
      "metadata": {
        "id": "avWv4ipFdpka",
        "colab": {
          "base_uri": "https://localhost:8080/"
        },
        "outputId": "bbdca150-23b9-4923-ef3c-dd5cfeebf972"
      },
      "source": [
        "# Load and visualise the vehicles dataset\n",
        "# To load the dataset: https://neptune.ai/blog/google-colab-dealing-with-files (check section \"Load individual files directly from GitHub\")\n",
        "\n",
        "\n",
        "# Note that the current and new fleets are in different columns and have different lengths, so bear this in mind when you're plotting.\n",
        "# You can create separate scatterplots for the two fleets, as you would with the histograms, \n",
        "# or plot them both in one plot (but not one against the other).\n",
        "# Note: you can add more cells as needed to organise your code and your plots\n",
        "\n",
        "vehicle_df = pd.read_csv('https://raw.githubusercontent.com/albanda/CE888/master/lab2%20-%20bootstrap/vehicles.csv')\n",
        "\n",
        "cf_data = vehicle_df.values.T[0]  # assign current fleet data values\n",
        "nf_data = vehicle_df.values.T[1]  # assign new fleet data values\n",
        "nf_data = nf_data[np.logical_not(np.isnan(nf_data))]  # remove nan values from new fleet data\n",
        "\n",
        "cf_df = pd.DataFrame(list(zip(range(len(cf_data)), cf_data)), columns=[\"number\", \"fleet\"])\n",
        "print(cf_df)\n",
        "\n",
        "# sns_plot = sns.lmplot(cf_df[\"number\"], cf_df[\"fleet\"], data=cf_df)"
      ],
      "execution_count": 7,
      "outputs": [
        {
          "output_type": "stream",
          "text": [
            "     number  fleet\n",
            "0         0   18.0\n",
            "1         1   15.0\n",
            "2         2   18.0\n",
            "3         3   16.0\n",
            "4         4   17.0\n",
            "..      ...    ...\n",
            "244     244   27.0\n",
            "245     245   27.0\n",
            "246     246   32.0\n",
            "247     247   28.0\n",
            "248     248   31.0\n",
            "\n",
            "[249 rows x 2 columns]\n"
          ],
          "name": "stdout"
        }
      ]
    },
    {
      "cell_type": "code",
      "metadata": {
        "colab": {
          "base_uri": "https://localhost:8080/"
        },
        "id": "e1QXBiDcJYRZ",
        "outputId": "bc83cc3e-cc14-45ac-a712-0cc1f7a7d707"
      },
      "source": [
        "print(cf_data)"
      ],
      "execution_count": 21,
      "outputs": [
        {
          "output_type": "stream",
          "text": [
            "[18. 15. 18. 16. 17. 15. 14. 14. 14. 15. 15. 14. 15. 14. 22. 18. 21. 21.\n",
            " 10. 10. 11.  9. 28. 25. 19. 16. 17. 19. 18. 14. 14. 14. 14. 12. 13. 13.\n",
            " 18. 22. 19. 18. 23. 26. 25. 20. 21. 13. 14. 15. 14. 17. 11. 13. 12. 13.\n",
            " 15. 13. 13. 14. 22. 28. 13. 14. 13. 14. 15. 12. 13. 13. 14. 13. 12. 13.\n",
            " 18. 16. 18. 18. 23. 11. 12. 13. 12. 18. 21. 19. 21. 15. 16. 15. 11. 20.\n",
            " 21. 19. 15. 26. 25. 16. 16. 18. 16. 13. 14. 14. 14. 28. 19. 18. 15. 15.\n",
            " 16. 15. 16. 14. 17. 16. 15. 18. 21. 20. 13. 23. 20. 23. 18. 19. 25. 26.\n",
            " 18. 16. 16. 15. 22. 22. 24. 23. 29. 25. 20. 18. 19. 18. 27. 13. 17. 13.\n",
            " 13. 13. 30. 26. 18. 17. 16. 15. 18. 21. 19. 19. 16. 16. 16. 16. 25. 26.\n",
            " 31. 34. 36. 20. 19. 20. 19. 21. 20. 25. 21. 19. 21. 21. 19. 18. 19. 18.\n",
            " 18. 18. 30. 31. 23. 24. 22. 20. 22. 20. 21. 17. 18. 17. 18. 17. 16. 19.\n",
            " 19. 36. 27. 23. 24. 34. 35. 28. 29. 27. 34. 32. 28. 26. 24. 19. 28. 24.\n",
            " 27. 27. 26. 24. 30. 39. 35. 34. 30. 22. 27. 20. 18. 28. 27. 34. 31. 29.\n",
            " 27. 24. 23. 38. 36. 25. 38. 26. 22. 36. 27. 27. 32. 28. 31.]\n"
          ],
          "name": "stdout"
        }
      ]
    },
    {
      "cell_type": "code",
      "metadata": {
        "colab": {
          "base_uri": "https://localhost:8080/"
        },
        "id": "59Kf3iYrJbv0",
        "outputId": "a70f2293-e55c-4ab5-ac20-f2806ec4f122"
      },
      "source": [
        "print(nf_data)"
      ],
      "execution_count": 22,
      "outputs": [
        {
          "output_type": "stream",
          "text": [
            "[24. 27. 27. 25. 31. 35. 24. 19. 28. 23. 27. 20. 22. 18. 20. 31. 32. 31.\n",
            " 32. 24. 26. 29. 24. 24. 33. 33. 32. 28. 19. 32. 34. 26. 30. 22. 22. 33.\n",
            " 39. 36. 28. 27. 21. 24. 30. 34. 32. 38. 37. 30. 31. 37. 32. 47. 41. 45.\n",
            " 34. 33. 24. 32. 39. 35. 32. 37. 38. 34. 34. 32. 33. 32. 25. 24. 37. 31.\n",
            " 36. 36. 34. 38. 32. 38. 32.]\n"
          ],
          "name": "stdout"
        }
      ]
    },
    {
      "cell_type": "markdown",
      "metadata": {
        "id": "B5d0tXDpIEj8"
      },
      "source": [
        "## Compare the two fleets\r\n",
        "\r\n",
        "The business analysts come up a comparison algorithm that requires the upper and lower bounds for the mean in order to say which fleet is better.\r\n",
        "1. Calculate the mean of both samples.\r\n",
        "2. Using the bootstrap function that you created:\r\n",
        "    - Construct the 95% CI of the mean of the current fleet.\r\n",
        "    - Construct the 95% CI of the mean of the new fleet.\r\n",
        "    - Are they comparable? (i.e., is one better than the other?) -- you can do this with a permutation test (check the lecture notes!)"
      ]
    },
    {
      "cell_type": "code",
      "metadata": {
        "id": "po4mp6zRHC0m",
        "colab": {
          "base_uri": "https://localhost:8080/"
        },
        "outputId": "ffd43a85-d033-45e7-c2f4-34ce83ee4c28"
      },
      "source": [
        "# <---INSERT YOUR CODE HERE--->\n",
        "\n",
        "# mean comparison\n",
        "cf_mean = np.mean(cf_data)\n",
        "nf_mean = np.mean(nf_data)\n",
        "\n",
        "# current fleet CI\n",
        "cf_CI = bootstrap_mean_ci(cf_data, len(cf_data), 10000, 95)\n",
        "\n",
        "\n",
        "# new fleet CI\n",
        "nf_CI = bootstrap_mean_ci(nf_data, len(nf_data), 10000, 95)\n",
        "\n",
        "# current fleet print out\n",
        "print(\"Current fleet mean: \\t\", cf_mean)\n",
        "print(\"lower bound: \\t \\t\", cf_CI[1])\n",
        "print(\"upper bound: \\t \\t\", cf_CI[2])\n",
        "\n",
        "print()\n",
        "\n",
        "# new fleet print out\n",
        "print(\"New fleet mean: \\t\", nf_mean)\n",
        "print(\"lower bound: \\t \\t\", nf_CI[1])\n",
        "print(\"upper bound: \\t \\t\", nf_CI[2])"
      ],
      "execution_count": 8,
      "outputs": [
        {
          "output_type": "stream",
          "text": [
            "Current fleet mean: \t 20.14457831325301\n",
            "lower bound: \t \t 19.36144578313253\n",
            "upper bound: \t \t 20.947791164658636\n",
            "\n",
            "New fleet mean: \t 30.481012658227847\n",
            "lower bound: \t \t 29.126582278481013\n",
            "upper bound: \t \t 31.82278481012658\n"
          ],
          "name": "stdout"
        }
      ]
    },
    {
      "cell_type": "code",
      "metadata": {
        "id": "MkxvDZG4HC0n",
        "colab": {
          "base_uri": "https://localhost:8080/"
        },
        "outputId": "63491b7a-1a5e-48e2-9dbb-c6d66e4491f1"
      },
      "source": [
        "# Create your own function for a permutation test here (you will need it for the lab quiz!):\n",
        "def permut_test(sample1, sample2, n_permutations):\n",
        "    \"\"\"\n",
        "    sample1: 1D array\n",
        "    sample2: 1D array (note that the size of the two arrays can be different)\n",
        "    n_permutations: number of permutations to calculate the p-value\n",
        "    \"\"\"\n",
        "\n",
        "    mean_old = np.mean(sample1)\n",
        "    mean_new = np.mean(sample2)\n",
        "    t_obs = mean_new - mean_old\n",
        "    extreme_count = 0\n",
        "\n",
        "    concat = np.concatenate((sample1, sample2))\n",
        "\n",
        "    for i in range(n_permutations):\n",
        "      perm = np.random.permutation(concat)\n",
        "\n",
        "      p_old = perm[:int(len(sample1))]  # not sure on this\n",
        "      p_new = perm[int(len(sample2)):]\n",
        "\n",
        "      t_perm = np.mean(p_new) - np.mean(p_old)\n",
        "      if t_perm > t_obs:\n",
        "        extreme_count += 1\n",
        "    \n",
        "    pvalue = extreme_count / n_permutations\n",
        "\n",
        "    return pvalue\n",
        "\n",
        "\n",
        "print(permut_test(cf_data, nf_data, 30000))"
      ],
      "execution_count": 19,
      "outputs": [
        {
          "output_type": "stream",
          "text": [
            "0.0\n"
          ],
          "name": "stdout"
        }
      ]
    },
    {
      "cell_type": "code",
      "metadata": {
        "id": "a3aiQIenCPTo",
        "colab": {
          "base_uri": "https://localhost:8080/"
        },
        "outputId": "edfdef47-34e7-46e3-958f-07159d519348"
      },
      "source": [
        "print(bootstrap_mean_ci(data, data.shape[0], 10000, 90))"
      ],
      "execution_count": null,
      "outputs": [
        {
          "output_type": "stream",
          "text": [
            "(9.206378571428571, 6.857142857142857, 11.785714285714286)\n"
          ],
          "name": "stdout"
        }
      ]
    },
    {
      "cell_type": "code",
      "metadata": {
        "id": "93TrZgbDD9bs"
      },
      "source": [
        "def bootstrap_sd_ci(sample, sample_size, n_bootstraps, ci):\r\n",
        "\r\n",
        "  bs_array = []\r\n",
        "  bs_sd_array = []\r\n",
        "  bs_sds = []\r\n",
        "\r\n",
        "  lower_threshold = (100 - ci) / 2\r\n",
        "  upper_threshold = 100 - ((100 - ci) / 2)\r\n",
        "\r\n",
        "  # iterate over the number of bootstraps to create\r\n",
        "  for bootstrap in range(n_bootstraps):\r\n",
        "\r\n",
        "    bs_sample = np.random.choice(sample, size=sample_size, replace=True)  # create a singular bootstrap\r\n",
        "    bs_sd_array.extend(bs_sample)  # extend array with bootstrap values\r\n",
        "    bs_array.append(bs_sample)  # add bootstrap as another row in 'matrix' of bootstraps\r\n",
        "    bs_sds.append(np.std(bs_sample))  # add sd of bootstrap to array of previous bootstrap means\r\n",
        "\r\n",
        "  data_std = np.mean(bs_sd_array)  # assign mean of all bootstrap standard deviations to data_std value\r\n",
        "  conf_interval = np.percentile(bs_sds, [lower_threshold, upper_threshold])  # calculate lower an upper bounds of CI\r\n",
        "  lower = conf_interval[0]\r\n",
        "  upper = conf_interval[1]\r\n",
        "\r\n",
        "  return data_std, lower, upper"
      ],
      "execution_count": 12,
      "outputs": []
    },
    {
      "cell_type": "code",
      "metadata": {
        "colab": {
          "base_uri": "https://localhost:8080/"
        },
        "id": "y7WYNjsbFgkd",
        "outputId": "e65df645-56fa-4337-89ce-b13358ab8f3e"
      },
      "source": [
        "print(bootstrap_sd_ci(cf_data, data.shape[0], 10000, 73))"
      ],
      "execution_count": 14,
      "outputs": [
        {
          "output_type": "stream",
          "text": [
            "(20.123242857142856, 4.620826854181677, 7.4220438353513885)\n"
          ],
          "name": "stdout"
        }
      ]
    },
    {
      "cell_type": "code",
      "metadata": {
        "colab": {
          "base_uri": "https://localhost:8080/"
        },
        "id": "bWvPXvUmJFO-",
        "outputId": "d002afd6-3ac9-4f33-e2d3-279e72de0efd"
      },
      "source": [
        "print(permut_test(cf_data, nf_data, 30000))"
      ],
      "execution_count": 20,
      "outputs": [
        {
          "output_type": "stream",
          "text": [
            "0.0\n"
          ],
          "name": "stdout"
        }
      ]
    },
    {
      "cell_type": "code",
      "metadata": {
        "id": "Z0AY8TmBKFBj"
      },
      "source": [
        "# voting data\r\n",
        "dem_share_PA = [60.08, 40.64, 36.07, 41.21, 31.04, 43.78, 44.08, 46.85, 44.71, 46.15, 63.10, 52.20, 43.18, 40.24, 39.92, 47.87, 37.77, 40.11, 49.85, 48.61, 38.62, 54.25, 34.84, 47.75, 43.82, 55.97, 58.23, 42.97, 42.38, 36.11, 37.53, 42.65, 50.96, 47.43, 56.24, 45.60, 46.39, 35.22, 48.56, 32.97, 57.88, 36.05, 37.72, 50.36, 32.12, 41.55, 54.66, 57.81, 54.58, 32.88, 54.37, 40.45, 47.61, 60.49, 43.11, 27.32, 44.03, 33.56, 37.26, 54.64, 43.12, 25.34, 49.79, 83.56, 40.09, 60.81, 49.81]\r\n",
        "dem_share_OH = [56.94, 50.46, 65.99, 45.88, 42.23, 45.26, 57.01, 53.61, 59.10, 61.48, 43.43, 44.69, 54.59, 48.36, 45.89, 48.62, 43.92, 38.23, 28.79, 63.57, 38.07, 40.18, 43.05, 41.56, 42.49, 36.06, 52.76, 46.07, 39.43, 39.26, 47.47, 27.92, 38.01, 45.45, 29.07, 28.94, 51.28, 50.10, 39.84, 36.43, 35.71, 31.47, 47.01, 40.10, 48.76, 31.56, 39.86, 45.31, 35.47, 51.38, 46.33, 48.73, 41.77, 41.32, 48.46, 53.14, 34.01, 54.74, 40.67, 38.96, 46.29, 38.25, 6.80, 31.75, 46.33, 44.90, 33.57, 38.10, 39.67, 40.47, 49.44, 37.62, 36.71, 46.73, 42.20, 53.16, 52.40, 58.36, 68.02, 38.53, 34.58, 69.64, 60.50, 53.53, 36.54, 49.58, 41.97, 38.11]"
      ],
      "execution_count": 23,
      "outputs": []
    },
    {
      "cell_type": "code",
      "metadata": {
        "colab": {
          "base_uri": "https://localhost:8080/"
        },
        "id": "bW5LMfclKYRd",
        "outputId": "5b509c2b-d3e8-4708-fd2e-5dfb046b96d2"
      },
      "source": [
        "len(dem_share_PA)"
      ],
      "execution_count": 25,
      "outputs": [
        {
          "output_type": "execute_result",
          "data": {
            "text/plain": [
              "67"
            ]
          },
          "metadata": {
            "tags": []
          },
          "execution_count": 25
        }
      ]
    },
    {
      "cell_type": "code",
      "metadata": {
        "colab": {
          "base_uri": "https://localhost:8080/"
        },
        "id": "exZhEfcHKpQy",
        "outputId": "e8552327-cd5b-44d5-f450-7b7585710d9a"
      },
      "source": [
        "len(dem_share_OH)"
      ],
      "execution_count": 27,
      "outputs": [
        {
          "output_type": "execute_result",
          "data": {
            "text/plain": [
              "88"
            ]
          },
          "metadata": {
            "tags": []
          },
          "execution_count": 27
        }
      ]
    },
    {
      "cell_type": "code",
      "metadata": {
        "colab": {
          "base_uri": "https://localhost:8080/"
        },
        "id": "7iBfZhM5K8kN",
        "outputId": "2d90387c-4318-4185-ceac-07d02c309c67"
      },
      "source": [
        "print(bootstrap_mean_ci(dem_share_OH, len(dem_share_OH), 20000, 95))"
      ],
      "execution_count": 29,
      "outputs": [
        {
          "output_type": "stream",
          "text": [
            "(44.32595547159094, 42.25234943181818, 46.36523295454546)\n"
          ],
          "name": "stdout"
        }
      ]
    },
    {
      "cell_type": "code",
      "metadata": {
        "colab": {
          "base_uri": "https://localhost:8080/"
        },
        "id": "q7sstvesLKID",
        "outputId": "45085634-cfd4-4859-e371-25db57040696"
      },
      "source": [
        "print(bootstrap_mean_ci(dem_share_PA, len(dem_share_PA), 20000, 95))"
      ],
      "execution_count": 30,
      "outputs": [
        {
          "output_type": "stream",
          "text": [
            "(45.4757400522388, 43.212085820895524, 47.866473880597006)\n"
          ],
          "name": "stdout"
        }
      ]
    },
    {
      "cell_type": "code",
      "metadata": {
        "colab": {
          "base_uri": "https://localhost:8080/"
        },
        "id": "sOgzeGwdLfm0",
        "outputId": "24145ee7-5a4c-46f1-d434-8f598d66326f"
      },
      "source": [
        "print(permut_test(dem_share_OH, dem_share_PA, 10000))"
      ],
      "execution_count": 31,
      "outputs": [
        {
          "output_type": "stream",
          "text": [
            "0.1886\n"
          ],
          "name": "stdout"
        }
      ]
    }
  ]
}