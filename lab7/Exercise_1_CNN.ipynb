{
  "nbformat": 4,
  "nbformat_minor": 0,
  "metadata": {
    "kernelspec": {
      "display_name": "Python 3",
      "language": "python",
      "name": "python3"
    },
    "language_info": {
      "codemirror_mode": {
        "name": "ipython",
        "version": 3
      },
      "file_extension": ".py",
      "mimetype": "text/x-python",
      "name": "python",
      "nbconvert_exporter": "python",
      "pygments_lexer": "ipython3",
      "version": "3.6.5"
    },
    "colab": {
      "name": "Exercise 1 - CNN.ipynb",
      "provenance": [],
      "include_colab_link": true
    },
    "accelerator": "GPU"
  },
  "cells": [
    {
      "cell_type": "markdown",
      "metadata": {
        "id": "view-in-github",
        "colab_type": "text"
      },
      "source": [
        "<a href=\"https://colab.research.google.com/github/georgeray1999-CS/Lab_Assignments/blob/main/lab7/Exercise_1_CNN.ipynb\" target=\"_parent\"><img src=\"https://colab.research.google.com/assets/colab-badge.svg\" alt=\"Open In Colab\"/></a>"
      ]
    },
    {
      "cell_type": "markdown",
      "metadata": {
        "id": "vwRGEQbzGpYQ"
      },
      "source": [
        "# First CNN model for MNIST Dataset\n",
        "\n",
        "* MNIST Dataset is ''Hello World'' of Image Recognition\n",
        "\n",
        "* [Dataset HomePage](http://yann.lecun.com/exdb/mnist/)\n",
        "\n",
        "* History of MNIST Dataset [Watch here](https://www.youtube.com/watch?v=oKzNUGz21JM)\n",
        "\n",
        "\n",
        "---\n",
        "The MNIST database of handwritten digits, available from this page, has a training set of 60,000 examples, and a \n",
        "test set of 10,000 examples. It is a subset of a larger set available from NIST. The digits have been size-normalized and centered in a fixed-size image.\n",
        "\n",
        "![Kitten](https://camo.githubusercontent.com/01c057a753e92a9bc70b8c45d62b295431851c09cffadf53106fc0aea7e2843f/687474703a2f2f692e7974696d672e636f6d2f76692f3051493378675875422d512f687164656661756c742e6a7067)\n"
      ]
    },
    {
      "cell_type": "markdown",
      "metadata": {
        "id": "PhmJOHCpJD_w"
      },
      "source": [
        "# Let's start building our first CNN Model"
      ]
    },
    {
      "cell_type": "code",
      "metadata": {
        "id": "lSyHCSV7jymI"
      },
      "source": [
        "from keras import layers\n",
        "from keras import models"
      ],
      "execution_count": 2,
      "outputs": []
    },
    {
      "cell_type": "markdown",
      "metadata": {
        "id": "oWNzCYUUjymN"
      },
      "source": [
        "Importantly, a convnet takes as input tensors of shape (image_height, image_width,\n",
        "image_channels) (not including the batch dimension). In this case, we’ll configure\n",
        "the convnet to process inputs of size (28, 28, 1), which is the format of MNIST\n",
        "images. We’ll do this by passing the argument input_shape=(28, 28, 1) to the first\n",
        "layer."
      ]
    },
    {
      "cell_type": "markdown",
      "metadata": {
        "id": "dM4JLEpwjymN"
      },
      "source": [
        "#### Instantiating a small convnet"
      ]
    },
    {
      "cell_type": "code",
      "metadata": {
        "id": "p-OnpExGjymO",
        "colab": {
          "base_uri": "https://localhost:8080/"
        },
        "outputId": "007104bc-7406-4452-e491-81252c6525da"
      },
      "source": [
        "model = models.Sequential()\n",
        "model.add(layers.Conv2D(32, (3, 3), activation='relu', input_shape=(28, 28, 1)))\n",
        "model.add(layers.MaxPooling2D((2, 2)))\n",
        "model.add(layers.Conv2D(64, (3, 3), activation='relu'))\n",
        "model.add(layers.MaxPooling2D((2, 2)))\n",
        "model.add(layers.Conv2D(64, (3, 3), activation='relu'))\n",
        "model.summary()"
      ],
      "execution_count": 3,
      "outputs": [
        {
          "output_type": "stream",
          "text": [
            "Model: \"sequential\"\n",
            "_________________________________________________________________\n",
            "Layer (type)                 Output Shape              Param #   \n",
            "=================================================================\n",
            "conv2d (Conv2D)              (None, 26, 26, 32)        320       \n",
            "_________________________________________________________________\n",
            "max_pooling2d (MaxPooling2D) (None, 13, 13, 32)        0         \n",
            "_________________________________________________________________\n",
            "conv2d_1 (Conv2D)            (None, 11, 11, 64)        18496     \n",
            "_________________________________________________________________\n",
            "max_pooling2d_1 (MaxPooling2 (None, 5, 5, 64)          0         \n",
            "_________________________________________________________________\n",
            "conv2d_2 (Conv2D)            (None, 3, 3, 64)          36928     \n",
            "=================================================================\n",
            "Total params: 55,744\n",
            "Trainable params: 55,744\n",
            "Non-trainable params: 0\n",
            "_________________________________________________________________\n"
          ],
          "name": "stdout"
        }
      ]
    },
    {
      "cell_type": "markdown",
      "metadata": {
        "id": "7gcVG3xkjymR"
      },
      "source": [
        "#### Adding a classifier on top of the convnet"
      ]
    },
    {
      "cell_type": "code",
      "metadata": {
        "id": "C2DfhDJYjymR",
        "colab": {
          "base_uri": "https://localhost:8080/"
        },
        "outputId": "26815329-a843-4270-9ec4-35b7008cfb16"
      },
      "source": [
        "model.add(layers.Flatten())\n",
        "model.add(layers.Dense(64, activation='relu'))\n",
        "model.add(layers.Dense(10, activation='softmax'))\n",
        "model.summary()"
      ],
      "execution_count": 4,
      "outputs": [
        {
          "output_type": "stream",
          "text": [
            "Model: \"sequential\"\n",
            "_________________________________________________________________\n",
            "Layer (type)                 Output Shape              Param #   \n",
            "=================================================================\n",
            "conv2d (Conv2D)              (None, 26, 26, 32)        320       \n",
            "_________________________________________________________________\n",
            "max_pooling2d (MaxPooling2D) (None, 13, 13, 32)        0         \n",
            "_________________________________________________________________\n",
            "conv2d_1 (Conv2D)            (None, 11, 11, 64)        18496     \n",
            "_________________________________________________________________\n",
            "max_pooling2d_1 (MaxPooling2 (None, 5, 5, 64)          0         \n",
            "_________________________________________________________________\n",
            "conv2d_2 (Conv2D)            (None, 3, 3, 64)          36928     \n",
            "_________________________________________________________________\n",
            "flatten (Flatten)            (None, 576)               0         \n",
            "_________________________________________________________________\n",
            "dense (Dense)                (None, 64)                36928     \n",
            "_________________________________________________________________\n",
            "dense_1 (Dense)              (None, 10)                650       \n",
            "=================================================================\n",
            "Total params: 93,322\n",
            "Trainable params: 93,322\n",
            "Non-trainable params: 0\n",
            "_________________________________________________________________\n"
          ],
          "name": "stdout"
        }
      ]
    },
    {
      "cell_type": "markdown",
      "metadata": {
        "id": "NOKVF4nKjymU"
      },
      "source": [
        "### Training the convnet on MNIST images"
      ]
    },
    {
      "cell_type": "code",
      "metadata": {
        "id": "oIcgUbbUjymV"
      },
      "source": [
        "from keras.datasets import mnist\n",
        "from keras.utils import to_categorical"
      ],
      "execution_count": 5,
      "outputs": []
    },
    {
      "cell_type": "markdown",
      "metadata": {
        "id": "ZnJ2Pfs_jymX"
      },
      "source": [
        "#### Load Data"
      ]
    },
    {
      "cell_type": "code",
      "metadata": {
        "id": "JpHGHE9MjymY",
        "colab": {
          "base_uri": "https://localhost:8080/"
        },
        "outputId": "be2d23aa-f3c8-4c98-dae1-8156eed1655b"
      },
      "source": [
        "(train_images, train_labels), (test_images, test_labels) = mnist.load_data()\n",
        "train_images = train_images.reshape((60000, 28, 28, 1))\n",
        "train_images = train_images.astype('float32') / 255\n",
        "test_images = test_images.reshape((10000, 28, 28, 1))\n",
        "test_images = test_images.astype('float32') / 255\n",
        "train_labels = to_categorical(train_labels)\n",
        "test_labels = to_categorical(test_labels)"
      ],
      "execution_count": 6,
      "outputs": [
        {
          "output_type": "stream",
          "text": [
            "Downloading data from https://storage.googleapis.com/tensorflow/tf-keras-datasets/mnist.npz\n",
            "11493376/11490434 [==============================] - 0s 0us/step\n"
          ],
          "name": "stdout"
        }
      ]
    },
    {
      "cell_type": "markdown",
      "metadata": {
        "id": "4HoTLrfSjymd"
      },
      "source": [
        "#### compile and fit model "
      ]
    },
    {
      "cell_type": "code",
      "metadata": {
        "id": "i23FDtC9jyme",
        "colab": {
          "base_uri": "https://localhost:8080/"
        },
        "outputId": "b50145f2-b1fa-479c-e3cc-ec1c8c666752"
      },
      "source": [
        "model.compile(optimizer='rmsprop', \n",
        "              loss='categorical_crossentropy',\n",
        "              metrics=['accuracy'])\n",
        "history = model.fit(train_images, train_labels, epochs=5, batch_size=64, validation_split=0.2)"
      ],
      "execution_count": 7,
      "outputs": [
        {
          "output_type": "stream",
          "text": [
            "Epoch 1/5\n",
            "750/750 [==============================] - 10s 4ms/step - loss: 0.4569 - accuracy: 0.8524 - val_loss: 0.0764 - val_accuracy: 0.9782\n",
            "Epoch 2/5\n",
            "750/750 [==============================] - 3s 3ms/step - loss: 0.0585 - accuracy: 0.9814 - val_loss: 0.0473 - val_accuracy: 0.9866\n",
            "Epoch 3/5\n",
            "750/750 [==============================] - 3s 3ms/step - loss: 0.0396 - accuracy: 0.9875 - val_loss: 0.0419 - val_accuracy: 0.9887\n",
            "Epoch 4/5\n",
            "750/750 [==============================] - 2s 3ms/step - loss: 0.0292 - accuracy: 0.9915 - val_loss: 0.0445 - val_accuracy: 0.9872\n",
            "Epoch 5/5\n",
            "750/750 [==============================] - 2s 3ms/step - loss: 0.0220 - accuracy: 0.9930 - val_loss: 0.0409 - val_accuracy: 0.9893\n"
          ],
          "name": "stdout"
        }
      ]
    },
    {
      "cell_type": "markdown",
      "metadata": {
        "id": "9zU8iI5ojymg"
      },
      "source": [
        "#### evaluate model"
      ]
    },
    {
      "cell_type": "code",
      "metadata": {
        "id": "Z3VeaL1Njymh",
        "colab": {
          "base_uri": "https://localhost:8080/"
        },
        "outputId": "00265195-08b7-4b99-8f86-a9aa3e10a6ef"
      },
      "source": [
        "test_loss, test_acc = model.evaluate(test_images, test_labels)\n",
        "test_acc"
      ],
      "execution_count": 8,
      "outputs": [
        {
          "output_type": "stream",
          "text": [
            "313/313 [==============================] - 1s 2ms/step - loss: 0.0339 - accuracy: 0.9899\n"
          ],
          "name": "stdout"
        },
        {
          "output_type": "execute_result",
          "data": {
            "text/plain": [
              "0.9898999929428101"
            ]
          },
          "metadata": {
            "tags": []
          },
          "execution_count": 8
        }
      ]
    },
    {
      "cell_type": "code",
      "metadata": {
        "id": "wXNZOY7Sjymj",
        "colab": {
          "base_uri": "https://localhost:8080/",
          "height": 545
        },
        "outputId": "5443915a-3e87-4a6e-aace-0cbcd49156e4"
      },
      "source": [
        "import matplotlib.pyplot as plt\n",
        "\n",
        "acc = history.history['accuracy']\n",
        "val_acc = history.history['val_accuracy']\n",
        "loss = history.history['loss']\n",
        "val_loss = history.history['val_loss']\n",
        "\n",
        "epochs = range(1, len(acc) + 1)\n",
        "\n",
        "plt.plot(epochs, acc, 'bo', label='Training acc')\n",
        "plt.plot(epochs, val_acc, 'b', label='Validation acc')\n",
        "plt.title('Training and validation accuracy')\n",
        "plt.legend()\n",
        "\n",
        "plt.figure()\n",
        "\n",
        "plt.plot(epochs, loss, 'bo', label='Training loss')\n",
        "plt.plot(epochs, val_loss, 'b', label='Validation loss')\n",
        "plt.title('Training and validation loss')\n",
        "plt.legend()\n",
        "\n",
        "plt.show()"
      ],
      "execution_count": 9,
      "outputs": [
        {
          "output_type": "display_data",
          "data": {
            "image/png": "[encoded data removed]",
            "text/plain": [
              "<Figure size 432x288 with 1 Axes>"
            ]
          },
          "metadata": {
            "tags": [],
            "needs_background": "light"
          }
        },
        {
          "output_type": "display_data",
          "data": {
            "image/png": "[encoded data removed]",
            "text/plain": [
              "<Figure size 432x288 with 1 Axes>"
            ]
          },
          "metadata": {
            "tags": [],
            "needs_background": "light"
          }
        }
      ]
    },
    {
      "cell_type": "markdown",
      "metadata": {
        "id": "dsQMc0Iojyml"
      },
      "source": [
        "## Task 1\n",
        "\n",
        "Change the activation function and other parameters such as optimizer to see the effect on the network and it's performance. If possible create a grid search. "
      ]
    },
    {
      "cell_type": "code",
      "metadata": {
        "id": "owJ-29BrJXNa",
        "colab": {
          "base_uri": "https://localhost:8080/"
        },
        "outputId": "07fc456d-f666-466e-8680-b1e7939cfdcf"
      },
      "source": [
        "# Write code here\r\n",
        "from sklearn.model_selection import GridSearchCV\r\n",
        "from keras.wrappers.scikit_learn import KerasClassifier\r\n",
        "\r\n",
        "def create_model(activation_func, optimizer):\r\n",
        "  model = models.Sequential()\r\n",
        "  model.add(layers.Conv2D(32, (3, 3), activation=activation_func, input_shape=(28, 28, 1)))\r\n",
        "  model.add(layers.MaxPooling2D((2, 2)))\r\n",
        "  model.add(layers.Conv2D(64, (3, 3), activation=activation_func))\r\n",
        "  model.add(layers.MaxPooling2D((2, 2)))\r\n",
        "  model.add(layers.Conv2D(64, (3, 3), activation=activation_func))\r\n",
        "  model.add(layers.Flatten())\r\n",
        "  model.add(layers.Dense(64, activation=activation_func))\r\n",
        "  model.add(layers.Dense(10, activation='softmax'))\r\n",
        "\r\n",
        "  model.compile(optimizer=optimizer, \r\n",
        "              loss='categorical_crossentropy',\r\n",
        "              metrics=['accuracy'])\r\n",
        "  \r\n",
        "  return model\r\n",
        "\r\n",
        "model = KerasClassifier(build_fn=create_model)\r\n",
        "\r\n",
        "\r\n",
        "activation_func = ['sigmoid', 'relu']\r\n",
        "optimizer = ['adam', 'rmsprop']\r\n",
        "\r\n",
        "param_grid = dict(activation_func=activation_func, \r\n",
        "                  optimizer=optimizer)\r\n",
        "\r\n",
        "grid = GridSearchCV(estimator=model, param_grid=param_grid)  # may be root of issue\r\n",
        "\r\n",
        "grid_results = grid.fit(train_images, train_labels)\r\n",
        "\r\n",
        "print(\"Best: {0}, using {1}\".format(grid_results.best_score_, grid_results.best_params_))"
      ],
      "execution_count": 18,
      "outputs": [
        {
          "output_type": "stream",
          "text": [
            "1500/1500 [==============================] - 4s 2ms/step - loss: 1.4351 - accuracy: 0.4882\n",
            "375/375 [==============================] - 1s 2ms/step - loss: 0.1602 - accuracy: 0.9563\n",
            "1500/1500 [==============================] - 4s 2ms/step - loss: 1.4905 - accuracy: 0.4648\n",
            "375/375 [==============================] - 1s 2ms/step - loss: 0.1627 - accuracy: 0.9555\n",
            "1500/1500 [==============================] - 4s 2ms/step - loss: 1.4144 - accuracy: 0.5014\n",
            "375/375 [==============================] - 1s 2ms/step - loss: 0.1951 - accuracy: 0.9426\n",
            "1500/1500 [==============================] - 4s 2ms/step - loss: 1.5117 - accuracy: 0.4553\n",
            "375/375 [==============================] - 1s 2ms/step - loss: 0.1819 - accuracy: 0.9507\n",
            "1500/1500 [==============================] - 4s 2ms/step - loss: 1.4037 - accuracy: 0.5048\n",
            "375/375 [==============================] - 1s 2ms/step - loss: 0.1472 - accuracy: 0.9589\n",
            "1500/1500 [==============================] - 4s 3ms/step - loss: 1.4394 - accuracy: 0.4911\n",
            "375/375 [==============================] - 1s 2ms/step - loss: 0.1773 - accuracy: 0.9467\n",
            "1500/1500 [==============================] - 4s 2ms/step - loss: 1.3903 - accuracy: 0.5123\n",
            "375/375 [==============================] - 1s 2ms/step - loss: 0.2134 - accuracy: 0.9357\n",
            "1500/1500 [==============================] - 5s 3ms/step - loss: 1.4745 - accuracy: 0.4820\n",
            "375/375 [==============================] - 1s 2ms/step - loss: 0.1992 - accuracy: 0.9378\n",
            "1500/1500 [==============================] - 4s 3ms/step - loss: 1.3974 - accuracy: 0.5085\n",
            "375/375 [==============================] - 1s 2ms/step - loss: 0.1945 - accuracy: 0.9424\n",
            "1500/1500 [==============================] - 4s 3ms/step - loss: 1.4650 - accuracy: 0.4787\n",
            "375/375 [==============================] - 1s 2ms/step - loss: 0.1808 - accuracy: 0.9478\n",
            "1500/1500 [==============================] - 4s 2ms/step - loss: 0.3793 - accuracy: 0.8848\n",
            "375/375 [==============================] - 1s 2ms/step - loss: 0.0652 - accuracy: 0.9812\n",
            "1500/1500 [==============================] - 4s 2ms/step - loss: 0.4059 - accuracy: 0.8733\n",
            "375/375 [==============================] - 1s 2ms/step - loss: 0.0642 - accuracy: 0.9793\n",
            "1500/1500 [==============================] - 4s 2ms/step - loss: 0.3829 - accuracy: 0.8810\n",
            "375/375 [==============================] - 1s 2ms/step - loss: 0.0749 - accuracy: 0.9777\n",
            "1500/1500 [==============================] - 4s 2ms/step - loss: 0.4081 - accuracy: 0.8713\n",
            "375/375 [==============================] - 1s 2ms/step - loss: 0.0694 - accuracy: 0.9786\n",
            "1500/1500 [==============================] - 4s 2ms/step - loss: 0.3797 - accuracy: 0.8809\n",
            "375/375 [==============================] - 1s 2ms/step - loss: 0.0658 - accuracy: 0.9806\n",
            "1500/1500 [==============================] - 5s 3ms/step - loss: 0.3406 - accuracy: 0.8895\n",
            "375/375 [==============================] - 1s 2ms/step - loss: 0.0684 - accuracy: 0.9795\n",
            "1500/1500 [==============================] - 4s 3ms/step - loss: 0.3631 - accuracy: 0.8831\n",
            "375/375 [==============================] - 1s 2ms/step - loss: 0.0712 - accuracy: 0.9791\n",
            "1500/1500 [==============================] - 4s 3ms/step - loss: 0.3791 - accuracy: 0.8777\n",
            "375/375 [==============================] - 1s 2ms/step - loss: 0.0648 - accuracy: 0.9793\n",
            "1500/1500 [==============================] - 4s 3ms/step - loss: 0.3439 - accuracy: 0.8904\n",
            "375/375 [==============================] - 1s 2ms/step - loss: 0.0824 - accuracy: 0.9775\n",
            "1500/1500 [==============================] - 4s 2ms/step - loss: 0.3556 - accuracy: 0.8881\n",
            "375/375 [==============================] - 1s 2ms/step - loss: 0.0613 - accuracy: 0.9816\n",
            "1875/1875 [==============================] - 5s 2ms/step - loss: 0.3452 - accuracy: 0.8927\n",
            "Best: 0.9794666647911072, using {'activation_func': 'relu', 'optimizer': 'adam'}\n"
          ],
          "name": "stdout"
        }
      ]
    }
  ]
}