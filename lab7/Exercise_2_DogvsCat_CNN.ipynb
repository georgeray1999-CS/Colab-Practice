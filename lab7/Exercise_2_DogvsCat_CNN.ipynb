{
  "nbformat": 4,
  "nbformat_minor": 0,
  "metadata": {
    "colab": {
      "name": "Exercise_2_DogvsCat_CNN.ipynb",
      "provenance": [],
      "include_colab_link": true
    },
    "kernelspec": {
      "name": "python3",
      "display_name": "Python 3"
    },
    "accelerator": "GPU"
  },
  "cells": [
    {
      "cell_type": "markdown",
      "metadata": {
        "id": "view-in-github",
        "colab_type": "text"
      },
      "source": [
        "<a href=\"https://colab.research.google.com/github/georgeray1999-CS/Lab_Assignments/blob/main/lab7/Exercise_2_DogvsCat_CNN.ipynb\" target=\"_parent\"><img src=\"https://colab.research.google.com/assets/colab-badge.svg\" alt=\"Open In Colab\"/></a>"
      ]
    },
    {
      "cell_type": "markdown",
      "metadata": {
        "id": "qTh9DiKVslsJ"
      },
      "source": [
        "## Dogs vs. Cats \n",
        "\n",
        "In this competition, you'll write an algorithm to classify whether images contain either a dog or a cat.  This is easy for humans, dogs, and cats. Your computer will find it a bit more difficult.\n",
        "\n",
        "![alt text](https://miro.medium.com/max/3000/1*bhFifratH9DjKqMBTeQG5A.gif)\n",
        "\n",
        "Ref: https://medium.com/@thegrigorian/rolling-in-the-deep-cnn-c8d3f7108c8c"
      ]
    },
    {
      "cell_type": "markdown",
      "metadata": {
        "id": "RSBI-_mSSY1g"
      },
      "source": [
        "Get your API Key from Kaggle using following steps:\n",
        "1. Login to [Kaggle](https://www.kaggle.com/) or Register if you don't have account\n",
        "2. Open Dataset (https://www.kaggle.com/c/dogs-vs-cats/rules) and accept terms and condition. \n",
        "3. On the top right corner click on your Icon and go to accounts and press a button \"Create New API Token\". It will download a JSON file containing your username and key. \n",
        "4. Now, paste both below. \n"
      ]
    },
    {
      "cell_type": "code",
      "metadata": {
        "id": "YmXSOc0tZIGA",
        "colab": {
          "base_uri": "https://localhost:8080/"
        },
        "outputId": "53a0d150-63a2-4ffa-db9c-e00d801d63c2"
      },
      "source": [
        "import os\n",
        "os.environ['KAGGLE_USERNAME'] = \"gnrayment\" # username from the json file\n",
        "os.environ['KAGGLE_KEY'] = \"6c9247ab16e5862dde00dec92273dc43\" # key from the json file\n",
        "!kaggle competitions download -c dogs-vs-cats # api copied from kaggle (https://www.kaggle.com/c/dogs-vs-cats/data)"
      ],
      "execution_count": 1,
      "outputs": [
        {
          "output_type": "stream",
          "text": [
            "Warning: Looks like you're using an outdated API Version, please consider updating (server 1.5.12 / client 1.5.4)\n",
            "Downloading train.zip to /content\n",
            " 99% 536M/543M [00:06<00:00, 137MB/s]\n",
            "100% 543M/543M [00:06<00:00, 85.7MB/s]\n",
            "Downloading sampleSubmission.csv to /content\n",
            "  0% 0.00/86.8k [00:00<?, ?B/s]\n",
            "100% 86.8k/86.8k [00:00<00:00, 91.5MB/s]\n",
            "Downloading test1.zip to /content\n",
            " 98% 265M/271M [00:05<00:00, 44.3MB/s]\n",
            "100% 271M/271M [00:05<00:00, 55.4MB/s]\n"
          ],
          "name": "stdout"
        }
      ]
    },
    {
      "cell_type": "code",
      "metadata": {
        "id": "PiwIL8d1n7eS",
        "colab": {
          "base_uri": "https://localhost:8080/"
        },
        "outputId": "c9dcda55-ee01-40a7-97b9-5c9a7c33f576"
      },
      "source": [
        "# Unzip training data\n",
        "from zipfile import ZipFile\n",
        "file_name = \"/content/train.zip\"\n",
        "with ZipFile(file_name, 'r') as zip:\n",
        "  zip.extractall()\n",
        "  print('done')"
      ],
      "execution_count": 2,
      "outputs": [
        {
          "output_type": "stream",
          "text": [
            "done\n"
          ],
          "name": "stdout"
        }
      ]
    },
    {
      "cell_type": "code",
      "metadata": {
        "id": "sa2Bj5i7pPKV",
        "colab": {
          "base_uri": "https://localhost:8080/"
        },
        "outputId": "7e586aae-9b18-437a-f4c8-d8768fdec996"
      },
      "source": [
        "# Get all the paths\n",
        "data_dir_list = os.listdir('/content/train')\n",
        "#print(data_dir_list)\n",
        "path, dirs, files = next(os.walk(\"/content/train\"))\n",
        "file_count = len(files)\n",
        "print(file_count)"
      ],
      "execution_count": 3,
      "outputs": [
        {
          "output_type": "stream",
          "text": [
            "25000\n"
          ],
          "name": "stdout"
        }
      ]
    },
    {
      "cell_type": "code",
      "metadata": {
        "id": "0ERlHkfHqpK8"
      },
      "source": [
        "# Make new base directory\n",
        "original_dataset_dir = '/content/train'\n",
        "base_dir = '/content/cats_and_dogs_small'\n",
        "os.mkdir(base_dir)"
      ],
      "execution_count": 4,
      "outputs": []
    },
    {
      "cell_type": "code",
      "metadata": {
        "id": "AANB1UJ6rQhM"
      },
      "source": [
        "train_dir = os.path.join(base_dir, 'train')\n",
        "os.mkdir(train_dir)\n",
        "\n",
        "validation_dir = os.path.join(base_dir, 'validation')\n",
        "os.mkdir(validation_dir)\n",
        "\n",
        "test_dir = os.path.join(base_dir, 'test')\n",
        "os.mkdir(test_dir)\n",
        "\n",
        "train_cats_dir = os.path.join(train_dir, 'cats')\n",
        "os.mkdir(train_cats_dir)\n",
        "\n",
        "train_dogs_dir = os.path.join(train_dir, 'dogs')\n",
        "os.mkdir(train_dogs_dir)\n",
        "\n",
        "validation_cats_dir = os.path.join(validation_dir, 'cats')\n",
        "os.mkdir(validation_cats_dir)\n",
        "\n",
        "validation_dogs_dir = os.path.join(validation_dir, 'dogs')\n",
        "os.mkdir(validation_dogs_dir)\n",
        "\n",
        "test_cats_dir = os.path.join(test_dir, 'cats')\n",
        "os.mkdir(test_cats_dir)\n",
        "\n",
        "test_dogs_dir = os.path.join(test_dir, 'dogs')\n",
        "os.mkdir(test_dogs_dir)"
      ],
      "execution_count": 5,
      "outputs": []
    },
    {
      "cell_type": "code",
      "metadata": {
        "id": "ULRgL9s9rV8T"
      },
      "source": [
        "import shutil\n",
        "fnames = ['cat.{}.jpg'.format(i) for i in range(1000)]\n",
        "for fname in fnames:\n",
        "    src = os.path.join(original_dataset_dir, fname)\n",
        "    dst = os.path.join(train_cats_dir, fname)\n",
        "    #print(src,dst)\n",
        "    shutil.copyfile(src, dst)\n",
        "    \n",
        "fnames = ['cat.{}.jpg'.format(i) for i in range(1000, 1500)]\n",
        "for fname in fnames:\n",
        "    src = os.path.join(original_dataset_dir, fname)\n",
        "    dst = os.path.join(validation_cats_dir, fname)\n",
        "    shutil.copyfile(src, dst)\n",
        "\n",
        "fnames = ['cat.{}.jpg'.format(i) for i in range(1500, 2000)]\n",
        "for fname in fnames:\n",
        "    src = os.path.join(original_dataset_dir, fname)\n",
        "    dst = os.path.join(test_cats_dir, fname)\n",
        "    shutil.copyfile(src, dst)\n",
        "    \n",
        "fnames = ['dog.{}.jpg'.format(i) for i in range(1000)]\n",
        "for fname in fnames:\n",
        "    src = os.path.join(original_dataset_dir, fname)\n",
        "    dst = os.path.join(train_dogs_dir, fname)\n",
        "    shutil.copyfile(src, dst)\n",
        "\n",
        "fnames = ['dog.{}.jpg'.format(i) for i in range(1000, 1500)]\n",
        "for fname in fnames:\n",
        "    src = os.path.join(original_dataset_dir, fname)\n",
        "    dst = os.path.join(validation_dogs_dir, fname)\n",
        "    shutil.copyfile(src, dst)\n",
        "\n",
        "fnames = ['dog.{}.jpg'.format(i) for i in range(1500, 2000)]\n",
        "for fname in fnames:\n",
        "    src = os.path.join(original_dataset_dir, fname)\n",
        "    dst = os.path.join(test_dogs_dir, fname)\n",
        "    shutil.copyfile(src, dst)"
      ],
      "execution_count": 6,
      "outputs": []
    },
    {
      "cell_type": "code",
      "metadata": {
        "id": "ul3XAbIyr7vC",
        "colab": {
          "base_uri": "https://localhost:8080/"
        },
        "outputId": "be57eb9e-3d0f-4d3b-8977-b757cac65659"
      },
      "source": [
        "print('total training cat images:', len(os.listdir(train_cats_dir)))\n",
        "print('total training dog images:', len(os.listdir(train_dogs_dir)))\n",
        "print('total validation cat images:', len(os.listdir(validation_cats_dir)))\n",
        "print('total validation dog images:', len(os.listdir(validation_dogs_dir)))\n",
        "print('total test cat images:', len(os.listdir(test_cats_dir)))\n",
        "print('total test dog images:', len(os.listdir(test_dogs_dir)))"
      ],
      "execution_count": 7,
      "outputs": [
        {
          "output_type": "stream",
          "text": [
            "total training cat images: 1000\n",
            "total training dog images: 1000\n",
            "total validation cat images: 500\n",
            "total validation dog images: 500\n",
            "total test cat images: 500\n",
            "total test dog images: 500\n"
          ],
          "name": "stdout"
        }
      ]
    },
    {
      "cell_type": "code",
      "metadata": {
        "id": "o9yTA21_r-ma",
        "colab": {
          "base_uri": "https://localhost:8080/"
        },
        "outputId": "67e051de-1a1a-4615-dc61-5b1ab7679773"
      },
      "source": [
        "from keras import layers\n",
        "from keras import models\n",
        "\n",
        "model = models.Sequential()\n",
        "model.add(layers.Conv2D(32, (3, 3), activation='relu', input_shape=(150, 150, 3)))\n",
        "model.add(layers.MaxPooling2D((2, 2)))\n",
        "model.add(layers.Conv2D(64, (3, 3), activation='relu'))\n",
        "model.add(layers.MaxPooling2D((2, 2)))\n",
        "model.add(layers.Conv2D(128, (3, 3), activation='relu'))\n",
        "model.add(layers.MaxPooling2D((2, 2)))\n",
        "model.add(layers.Conv2D(128, (3, 3), activation='relu'))\n",
        "model.add(layers.MaxPooling2D((2, 2)))\n",
        "model.add(layers.Flatten())\n",
        "model.add(layers.Dense(512, activation='relu'))\n",
        "model.add(layers.Dense(1, activation='sigmoid'))\n",
        "model.summary()"
      ],
      "execution_count": 8,
      "outputs": [
        {
          "output_type": "stream",
          "text": [
            "Model: \"sequential\"\n",
            "_________________________________________________________________\n",
            "Layer (type)                 Output Shape              Param #   \n",
            "=================================================================\n",
            "conv2d (Conv2D)              (None, 148, 148, 32)      896       \n",
            "_________________________________________________________________\n",
            "max_pooling2d (MaxPooling2D) (None, 74, 74, 32)        0         \n",
            "_________________________________________________________________\n",
            "conv2d_1 (Conv2D)            (None, 72, 72, 64)        18496     \n",
            "_________________________________________________________________\n",
            "max_pooling2d_1 (MaxPooling2 (None, 36, 36, 64)        0         \n",
            "_________________________________________________________________\n",
            "conv2d_2 (Conv2D)            (None, 34, 34, 128)       73856     \n",
            "_________________________________________________________________\n",
            "max_pooling2d_2 (MaxPooling2 (None, 17, 17, 128)       0         \n",
            "_________________________________________________________________\n",
            "conv2d_3 (Conv2D)            (None, 15, 15, 128)       147584    \n",
            "_________________________________________________________________\n",
            "max_pooling2d_3 (MaxPooling2 (None, 7, 7, 128)         0         \n",
            "_________________________________________________________________\n",
            "flatten (Flatten)            (None, 6272)              0         \n",
            "_________________________________________________________________\n",
            "dense (Dense)                (None, 512)               3211776   \n",
            "_________________________________________________________________\n",
            "dense_1 (Dense)              (None, 1)                 513       \n",
            "=================================================================\n",
            "Total params: 3,453,121\n",
            "Trainable params: 3,453,121\n",
            "Non-trainable params: 0\n",
            "_________________________________________________________________\n"
          ],
          "name": "stdout"
        }
      ]
    },
    {
      "cell_type": "code",
      "metadata": {
        "id": "2mG8wekxsBVS"
      },
      "source": [
        "from keras import optimizers\n",
        "model.compile(loss='binary_crossentropy', \n",
        "              optimizer=optimizers.RMSprop(lr=1e-4),\n",
        "              metrics=['acc'])"
      ],
      "execution_count": 9,
      "outputs": []
    },
    {
      "cell_type": "markdown",
      "metadata": {
        "id": "7zS4Klm8qWp6"
      },
      "source": [
        "## Using ImageDataGenerator to read images from directories\n",
        "As you know by now, data should be formatted into appropriately preprocessed floatingpoint tensors before being fed into the network. Currently, the data sits on a drive as JPEG files, so the steps for getting it into the network are roughly as follows:\n",
        "\n",
        "* Read the picture files.\n",
        "* Decode the JPEG content to RGB grids of pixels.\n",
        "* Convert these into floating-point tensors.\n",
        "* Rescale the pixel values (between 0 and 255) to the [0, 1] interval (as you know, neural networks prefer to deal with small input values).\n",
        "\n",
        "It may seem a bit daunting, but fortunately Keras has utilities to take care of these steps automatically. Keras has a module with image-processing helper tools, located at keras.preprocessing.image. In particular, it contains the class ImageDataGenerator,which lets you quickly set up Python generators that can automatically turn image files on disk into batches of preprocessed tensors."
      ]
    },
    {
      "cell_type": "code",
      "metadata": {
        "id": "XJ7XU7t9sEh6",
        "colab": {
          "base_uri": "https://localhost:8080/"
        },
        "outputId": "f060b5e9-ce3d-4fe5-892a-ca2cc444c30d"
      },
      "source": [
        "from keras.preprocessing.image import ImageDataGenerator\n",
        "\n",
        "train_datagen = ImageDataGenerator(rescale=1./255)\n",
        "test_datagen = ImageDataGenerator(rescale=1./255)\n",
        "\n",
        "train_generator = train_datagen.flow_from_directory(train_dir,\n",
        "                                                    target_size=(150, 150), \n",
        "                                                    batch_size=20,\n",
        "                                                    class_mode='binary')\n",
        "\n",
        "validation_generator = test_datagen.flow_from_directory(validation_dir,\n",
        "                                                        target_size=(150, 150),\n",
        "                                                        batch_size=20,\n",
        "                                                        class_mode='binary')"
      ],
      "execution_count": 10,
      "outputs": [
        {
          "output_type": "stream",
          "text": [
            "Found 2000 images belonging to 2 classes.\n",
            "Found 1000 images belonging to 2 classes.\n"
          ],
          "name": "stdout"
        }
      ]
    },
    {
      "cell_type": "markdown",
      "metadata": {
        "id": "SEgLywySqm4u"
      },
      "source": [
        "Let’s fit the model to the data using the generator. You do so using the fit_generator method, the equivalent of fit for data generators like this one. It expects as its first argument a Python generator that will yield batches of inputs and targets indefinitely,like this one does. Because the data is being generated endlessly, the Keras model needs to know how many samples to draw from the generator before declaring anepoch over. This is the role of the `steps_per_epoch` argument: after having drawn `steps_per_epoch` batches from the generator—that is, after having run for `steps_per_epoch` gradient descent steps—the fitting process will go to the next epoch. In this case, batches are 20 samples, so it will take 100 batches until you see your target of 2,000 samples.\n",
        "\n",
        "When using fit_generator, you can pass a validation_data argument, much as with the fit method. It’s important to note that this argument is allowed to be a data generator, but it could also be a tuple of Numpy arrays. If you pass a generator as validation_data, then this generator is expected to yield batches of validation data endlessly; thus you should also specify the validation_steps argument, which tells the process how many batches to draw from the validation generator for evaluation."
      ]
    },
    {
      "cell_type": "code",
      "metadata": {
        "id": "yMyfPphJsJG6",
        "colab": {
          "base_uri": "https://localhost:8080/"
        },
        "outputId": "11804af9-a2ea-48db-8162-bd7970f0efe0"
      },
      "source": [
        "history = model.fit(train_generator,\n",
        "                              steps_per_epoch=100,\n",
        "                              epochs=30,\n",
        "                              validation_data=validation_generator,\n",
        "                              validation_steps=10)"
      ],
      "execution_count": null,
      "outputs": [
        {
          "output_type": "stream",
          "text": [
            "Epoch 1/30\n",
            "100/100 [==============================] - 40s 73ms/step - loss: 0.6970 - acc: 0.5138 - val_loss: 0.6845 - val_acc: 0.5450\n",
            "Epoch 2/30\n",
            "100/100 [==============================] - 7s 69ms/step - loss: 0.6703 - acc: 0.5719 - val_loss: 0.6563 - val_acc: 0.6350\n",
            "Epoch 3/30\n",
            "100/100 [==============================] - 7s 68ms/step - loss: 0.6296 - acc: 0.6433 - val_loss: 0.6082 - val_acc: 0.6700\n",
            "Epoch 4/30\n",
            "100/100 [==============================] - 7s 69ms/step - loss: 0.5715 - acc: 0.7148 - val_loss: 0.6074 - val_acc: 0.6600\n",
            "Epoch 5/30\n",
            "100/100 [==============================] - 7s 68ms/step - loss: 0.5462 - acc: 0.7226 - val_loss: 0.6267 - val_acc: 0.6500\n",
            "Epoch 6/30\n",
            "100/100 [==============================] - 7s 69ms/step - loss: 0.5060 - acc: 0.7526 - val_loss: 0.5621 - val_acc: 0.7200\n",
            "Epoch 7/30\n",
            "100/100 [==============================] - 7s 68ms/step - loss: 0.5040 - acc: 0.7508 - val_loss: 0.5425 - val_acc: 0.7250\n",
            "Epoch 8/30\n",
            "100/100 [==============================] - 7s 68ms/step - loss: 0.4713 - acc: 0.7621 - val_loss: 0.5484 - val_acc: 0.6800\n",
            "Epoch 9/30\n",
            "100/100 [==============================] - 7s 68ms/step - loss: 0.4135 - acc: 0.8069 - val_loss: 0.6202 - val_acc: 0.6900\n",
            "Epoch 10/30\n",
            "100/100 [==============================] - 7s 69ms/step - loss: 0.3941 - acc: 0.8306 - val_loss: 0.5454 - val_acc: 0.7200\n",
            "Epoch 11/30\n",
            "100/100 [==============================] - 7s 70ms/step - loss: 0.3673 - acc: 0.8433 - val_loss: 0.5702 - val_acc: 0.7250\n",
            "Epoch 12/30\n",
            "100/100 [==============================] - 7s 68ms/step - loss: 0.3485 - acc: 0.8582 - val_loss: 0.4889 - val_acc: 0.7300\n",
            "Epoch 13/30\n",
            "100/100 [==============================] - 7s 69ms/step - loss: 0.3209 - acc: 0.8600 - val_loss: 0.7324 - val_acc: 0.6850\n",
            "Epoch 14/30\n",
            "100/100 [==============================] - 7s 69ms/step - loss: 0.3116 - acc: 0.8668 - val_loss: 0.5435 - val_acc: 0.7500\n",
            "Epoch 15/30\n",
            "100/100 [==============================] - 7s 69ms/step - loss: 0.2529 - acc: 0.9056 - val_loss: 0.5511 - val_acc: 0.7550\n",
            "Epoch 16/30\n",
            "100/100 [==============================] - 7s 69ms/step - loss: 0.2582 - acc: 0.8986 - val_loss: 0.5661 - val_acc: 0.7050\n",
            "Epoch 17/30\n",
            "100/100 [==============================] - 7s 68ms/step - loss: 0.2408 - acc: 0.9136 - val_loss: 0.5001 - val_acc: 0.7900\n",
            "Epoch 18/30\n",
            "100/100 [==============================] - 7s 68ms/step - loss: 0.2068 - acc: 0.9202 - val_loss: 0.7974 - val_acc: 0.7200\n",
            "Epoch 19/30\n",
            "100/100 [==============================] - 7s 68ms/step - loss: 0.2024 - acc: 0.9244 - val_loss: 0.6237 - val_acc: 0.7250\n",
            "Epoch 20/30\n",
            "100/100 [==============================] - 7s 70ms/step - loss: 0.1765 - acc: 0.9471 - val_loss: 0.5495 - val_acc: 0.7350\n",
            "Epoch 21/30\n",
            "100/100 [==============================] - 7s 68ms/step - loss: 0.1599 - acc: 0.9508 - val_loss: 0.6966 - val_acc: 0.7250\n",
            "Epoch 22/30\n",
            "100/100 [==============================] - 7s 67ms/step - loss: 0.1264 - acc: 0.9641 - val_loss: 0.6781 - val_acc: 0.7550\n",
            "Epoch 23/30\n",
            "100/100 [==============================] - 7s 67ms/step - loss: 0.1223 - acc: 0.9610 - val_loss: 0.7660 - val_acc: 0.7000\n",
            "Epoch 24/30\n",
            "100/100 [==============================] - 7s 69ms/step - loss: 0.0953 - acc: 0.9759 - val_loss: 0.9687 - val_acc: 0.7250\n",
            "Epoch 25/30\n",
            "100/100 [==============================] - 7s 69ms/step - loss: 0.0972 - acc: 0.9716 - val_loss: 0.9097 - val_acc: 0.7150\n",
            "Epoch 26/30\n",
            "100/100 [==============================] - 7s 68ms/step - loss: 0.0729 - acc: 0.9866 - val_loss: 0.8043 - val_acc: 0.7600\n",
            "Epoch 27/30\n",
            "100/100 [==============================] - 7s 68ms/step - loss: 0.0743 - acc: 0.9772 - val_loss: 0.8718 - val_acc: 0.7100\n",
            "Epoch 28/30\n",
            "100/100 [==============================] - 7s 68ms/step - loss: 0.0516 - acc: 0.9876 - val_loss: 0.7946 - val_acc: 0.7800\n",
            "Epoch 29/30\n",
            "100/100 [==============================] - 7s 67ms/step - loss: 0.0481 - acc: 0.9898 - val_loss: 0.8371 - val_acc: 0.7650\n",
            "Epoch 30/30\n",
            "100/100 [==============================] - 7s 68ms/step - loss: 0.0377 - acc: 0.9917 - val_loss: 0.6922 - val_acc: 0.7700\n"
          ],
          "name": "stdout"
        }
      ]
    },
    {
      "cell_type": "code",
      "metadata": {
        "id": "MZaZ2HWZsNUi",
        "colab": {
          "base_uri": "https://localhost:8080/",
          "height": 545
        },
        "outputId": "5779ed81-767e-433b-e48b-8040977ad625"
      },
      "source": [
        "model.save('cats_and_dogs_small_1.h5')\n",
        "\n",
        "import matplotlib.pyplot as plt\n",
        "\n",
        "acc = history.history['acc']\n",
        "val_acc = history.history['val_acc']\n",
        "loss = history.history['loss']\n",
        "val_loss = history.history['val_loss']\n",
        "\n",
        "epochs = range(1, len(acc) + 1)\n",
        "\n",
        "plt.plot(epochs, acc, 'bo', label='Training acc')\n",
        "plt.plot(epochs, val_acc, 'b', label='Validation acc')\n",
        "plt.title('Training and validation accuracy')\n",
        "plt.legend()\n",
        "\n",
        "plt.figure()\n",
        "\n",
        "plt.plot(epochs, loss, 'bo', label='Training loss')\n",
        "plt.plot(epochs, val_loss, 'b', label='Validation loss')\n",
        "plt.title('Training and validation loss')\n",
        "plt.legend()\n",
        "\n",
        "plt.show()"
      ],
      "execution_count": null,
      "outputs": [
        {
          "output_type": "display_data",
          "data": {
            "image/png": "[encoded data removed]",
            "text/plain": [
              "<Figure size 432x288 with 1 Axes>"
            ]
          },
          "metadata": {
            "tags": [],
            "needs_background": "light"
          }
        },
        {
          "output_type": "display_data",
          "data": {
            "image/png": "[encoded data removed]",
            "text/plain": [
              "<Figure size 432x288 with 1 Axes>"
            ]
          },
          "metadata": {
            "tags": [],
            "needs_background": "light"
          }
        }
      ]
    },
    {
      "cell_type": "markdown",
      "metadata": {
        "id": "XKZmXmBcq_8-"
      },
      "source": [
        "## Convolutional Networks with Dropout\n",
        "\n",
        "![alt text](https://camo.githubusercontent.com/ee6fa1073247cd2c3d241300caf110d7a7541bc5/68747470733a2f2f63646e2d696d616765732d312e6d656469756d2e636f6d2f6d61782f3830302f312a4972644a355067684439596f4f7956415137334d4a772e676966)\n",
        "\n",
        "Ref: https://github.com/mneha4/Training-Neural-Nets---Guidelines"
      ]
    },
    {
      "cell_type": "code",
      "metadata": {
        "id": "wu3cqeYQrDeN"
      },
      "source": [
        "model = models.Sequential()\n",
        "model.add(layers.Conv2D(32, (3, 3), activation='relu', input_shape=(150, 150, 3)))\n",
        "model.add(layers.MaxPooling2D((2, 2)))\n",
        "model.add(layers.Conv2D(64, (3, 3), activation='relu'))\n",
        "model.add(layers.MaxPooling2D((2, 2)))\n",
        "model.add(layers.Conv2D(128, (3, 3), activation='relu'))\n",
        "model.add(layers.MaxPooling2D((2, 2)))\n",
        "model.add(layers.Conv2D(128, (3, 3), activation='relu'))\n",
        "model.add(layers.MaxPooling2D((2, 2)))\n",
        "model.add(layers.Flatten())\n",
        "model.add(layers.Dropout(0.5))\n",
        "model.add(layers.Dense(512, activation='relu'))\n",
        "model.add(layers.Dense(1, activation='sigmoid'))\n",
        "\n",
        "model.compile(loss='binary_crossentropy',\n",
        "              optimizer=optimizers.RMSprop(lr=1e-4),\n",
        "              metrics=['acc'])"
      ],
      "execution_count": 11,
      "outputs": []
    },
    {
      "cell_type": "code",
      "metadata": {
        "id": "QSeLpvY0rH7F",
        "colab": {
          "base_uri": "https://localhost:8080/"
        },
        "outputId": "1f6839f0-3c62-441e-ced6-1775d3baab75"
      },
      "source": [
        "import math\n",
        "\n",
        "batch_size = 32\n",
        "train_size = len(os.listdir(train_cats_dir)) + len(os.listdir(train_dogs_dir))\n",
        "validation_size = len(os.listdir(validation_cats_dir)) + len(os.listdir(validation_dogs_dir))\n",
        "\n",
        "print(train_size)\n",
        "print(validation_size)\n",
        "\n",
        "compute_steps_per_epoch = lambda x: int(math.ceil(1. * x / batch_size))\n",
        "\n",
        "steps_per_epoch = compute_steps_per_epoch(train_size)\n",
        "val_steps = compute_steps_per_epoch(validation_size)\n",
        "\n",
        "train_datagen = ImageDataGenerator(rescale=1./255,\n",
        "                                   rotation_range=40,\n",
        "                                   width_shift_range=0.2,\n",
        "                                   height_shift_range=0.2,\n",
        "                                   shear_range=0.2,\n",
        "                                   zoom_range=0.2,\n",
        "                                   horizontal_flip=True,)\n",
        "\n",
        "test_datagen = ImageDataGenerator(rescale=1./255)\n",
        "\n",
        "train_generator = train_datagen.flow_from_directory(train_dir,\n",
        "                                                    target_size=(150, 150),\n",
        "                                                    batch_size=batch_size,\n",
        "                                                    class_mode='binary')\n",
        "\n",
        "validation_generator = test_datagen.flow_from_directory(validation_dir,\n",
        "                                                        target_size=(150, 150),\n",
        "                                                        batch_size=batch_size,\n",
        "                                                        class_mode='binary')\n",
        "\n",
        "history = model.fit(train_generator,\n",
        "                              steps_per_epoch=steps_per_epoch,\n",
        "                              epochs=20,\n",
        "                              validation_data=validation_generator,\n",
        "                              validation_steps=val_steps)"
      ],
      "execution_count": 31,
      "outputs": [
        {
          "output_type": "stream",
          "text": [
            "2000\n",
            "1000\n",
            "Found 2000 images belonging to 2 classes.\n",
            "Found 1000 images belonging to 2 classes.\n",
            "Epoch 1/20\n",
            "63/63 [==============================] - 17s 266ms/step - loss: 0.4873 - acc: 0.7655 - val_loss: 0.4902 - val_acc: 0.7500\n",
            "Epoch 2/20\n",
            "63/63 [==============================] - 17s 262ms/step - loss: 0.4728 - acc: 0.7670 - val_loss: 0.5772 - val_acc: 0.7030\n",
            "Epoch 3/20\n",
            "63/63 [==============================] - 17s 265ms/step - loss: 0.4810 - acc: 0.7610 - val_loss: 0.4934 - val_acc: 0.7550\n",
            "Epoch 4/20\n",
            "63/63 [==============================] - 17s 262ms/step - loss: 0.4769 - acc: 0.7665 - val_loss: 0.4908 - val_acc: 0.7700\n",
            "Epoch 5/20\n",
            "63/63 [==============================] - 17s 265ms/step - loss: 0.4660 - acc: 0.7805 - val_loss: 0.5719 - val_acc: 0.7060\n",
            "Epoch 6/20\n",
            "63/63 [==============================] - 17s 265ms/step - loss: 0.4683 - acc: 0.7705 - val_loss: 0.5610 - val_acc: 0.7290\n",
            "Epoch 7/20\n",
            "63/63 [==============================] - 16s 261ms/step - loss: 0.4643 - acc: 0.7830 - val_loss: 0.4996 - val_acc: 0.7530\n",
            "Epoch 8/20\n",
            "63/63 [==============================] - 17s 263ms/step - loss: 0.4713 - acc: 0.7655 - val_loss: 0.5017 - val_acc: 0.7480\n",
            "Epoch 9/20\n",
            "63/63 [==============================] - 17s 265ms/step - loss: 0.4786 - acc: 0.7630 - val_loss: 0.4672 - val_acc: 0.7690\n",
            "Epoch 10/20\n",
            "63/63 [==============================] - 17s 263ms/step - loss: 0.4762 - acc: 0.7765 - val_loss: 0.4592 - val_acc: 0.7930\n",
            "Epoch 11/20\n",
            "63/63 [==============================] - 17s 264ms/step - loss: 0.4585 - acc: 0.7850 - val_loss: 0.4953 - val_acc: 0.7570\n",
            "Epoch 12/20\n",
            "63/63 [==============================] - 17s 262ms/step - loss: 0.4546 - acc: 0.7795 - val_loss: 0.4917 - val_acc: 0.7570\n",
            "Epoch 13/20\n",
            "63/63 [==============================] - 17s 265ms/step - loss: 0.4573 - acc: 0.7770 - val_loss: 0.4838 - val_acc: 0.7740\n",
            "Epoch 14/20\n",
            "63/63 [==============================] - 17s 264ms/step - loss: 0.4601 - acc: 0.7745 - val_loss: 0.4630 - val_acc: 0.7790\n",
            "Epoch 15/20\n",
            "63/63 [==============================] - 17s 264ms/step - loss: 0.4505 - acc: 0.7785 - val_loss: 0.4823 - val_acc: 0.7640\n",
            "Epoch 16/20\n",
            "63/63 [==============================] - 17s 265ms/step - loss: 0.4447 - acc: 0.7890 - val_loss: 0.5121 - val_acc: 0.7660\n",
            "Epoch 17/20\n",
            "63/63 [==============================] - 17s 262ms/step - loss: 0.4501 - acc: 0.7895 - val_loss: 0.5040 - val_acc: 0.7540\n",
            "Epoch 18/20\n",
            "63/63 [==============================] - 16s 262ms/step - loss: 0.4621 - acc: 0.7775 - val_loss: 0.4589 - val_acc: 0.7900\n",
            "Epoch 19/20\n",
            "63/63 [==============================] - 17s 265ms/step - loss: 0.4353 - acc: 0.8030 - val_loss: 0.4644 - val_acc: 0.7880\n",
            "Epoch 20/20\n",
            "63/63 [==============================] - 17s 264ms/step - loss: 0.4581 - acc: 0.7780 - val_loss: 0.4753 - val_acc: 0.7670\n"
          ],
          "name": "stdout"
        }
      ]
    },
    {
      "cell_type": "markdown",
      "metadata": {
        "id": "BRdU5yrkUF_b"
      },
      "source": [
        "# Task 2:\n",
        "\n",
        "We have used Dropout to enhance the performance of the CNN model. Can you please use whatever you like to further enhance the performance from `val_acc: 0.7506`? "
      ]
    },
    {
      "cell_type": "code",
      "metadata": {
        "id": "mpLD8kzpzcAL"
      },
      "source": [
        "model = models.Sequential()\n",
        "\n",
        "model.add(layers.Conv2D(32, (3, 3), activation='relu', input_shape=(150, 150, 3)))\n",
        "model.add(layers.MaxPooling2D((2, 2)))\n",
        "\n",
        "model.add(layers.Conv2D(64, (3, 3), activation='relu'))\n",
        "model.add(layers.MaxPooling2D((2, 2)))\n",
        "\n",
        "model.add(layers.Conv2D(128, (3, 3), activation='relu'))\n",
        "model.add(layers.MaxPooling2D((2, 2)))\n",
        "\n",
        "model.add(layers.Conv2D(128, (3, 3), activation='relu'))\n",
        "model.add(layers.MaxPooling2D((2, 2)))\n",
        "\n",
        "model.add(layers.Flatten())\n",
        "\n",
        "model.add(layers.Dropout(0.5))\n",
        "\n",
        "model.add(layers.Dense(512, activation='relu'))\n",
        "model.add(layers.Dense(1, activation='sigmoid'))\n",
        "\n",
        "model.compile(loss='binary_crossentropy',\n",
        "              optimizer=optimizers.RMSprop(lr=1e-4),\n",
        "              metrics=['acc'])"
      ],
      "execution_count": 45,
      "outputs": []
    },
    {
      "cell_type": "code",
      "metadata": {
        "colab": {
          "base_uri": "https://localhost:8080/"
        },
        "id": "6qh943hDuz-s",
        "outputId": "1c73bfdb-2b92-4462-c273-ad5265cb2508"
      },
      "source": [
        "import math\n",
        "\n",
        "batch_size = 40\n",
        "train_size = len(os.listdir(train_cats_dir)) + len(os.listdir(train_dogs_dir))\n",
        "validation_size = len(os.listdir(validation_cats_dir)) + len(os.listdir(validation_dogs_dir))\n",
        "\n",
        "print(train_size)\n",
        "print(validation_size)\n",
        "\n",
        "compute_steps_per_epoch = lambda x: int(math.ceil(1. * x / batch_size))\n",
        "\n",
        "steps_per_epoch = compute_steps_per_epoch(train_size)\n",
        "val_steps = compute_steps_per_epoch(validation_size)\n",
        "\n",
        "train_datagen = ImageDataGenerator(rescale=1./255,\n",
        "                                   rotation_range=40,\n",
        "                                   width_shift_range=0.2,\n",
        "                                   height_shift_range=0.2,\n",
        "                                   shear_range=0.2,\n",
        "                                   zoom_range=0.2,\n",
        "                                   horizontal_flip=True,\n",
        "                                   vertical_flip=True)\n",
        "\n",
        "test_datagen = ImageDataGenerator(rescale=1./255)\n",
        "\n",
        "train_generator = train_datagen.flow_from_directory(train_dir,\n",
        "                                                    target_size=(150, 150),\n",
        "                                                    batch_size=batch_size,\n",
        "                                                    class_mode='binary')\n",
        "\n",
        "validation_generator = test_datagen.flow_from_directory(validation_dir,\n",
        "                                                        target_size=(150, 150),\n",
        "                                                        batch_size=batch_size,\n",
        "                                                        class_mode='binary')\n",
        "\n",
        "history = model.fit(train_generator,\n",
        "                              steps_per_epoch=steps_per_epoch,\n",
        "                              epochs=30,\n",
        "                              validation_data=validation_generator,\n",
        "                              validation_steps=val_steps)"
      ],
      "execution_count": 47,
      "outputs": [
        {
          "output_type": "stream",
          "text": [
            "2000\n",
            "1000\n",
            "Found 2000 images belonging to 2 classes.\n",
            "Found 1000 images belonging to 2 classes.\n",
            "Epoch 1/30\n",
            "50/50 [==============================] - 18s 338ms/step - loss: 0.5447 - acc: 0.7240 - val_loss: 0.5236 - val_acc: 0.7310\n",
            "Epoch 2/30\n",
            "50/50 [==============================] - 17s 336ms/step - loss: 0.5471 - acc: 0.7310 - val_loss: 0.5208 - val_acc: 0.7280\n",
            "Epoch 3/30\n",
            "50/50 [==============================] - 17s 336ms/step - loss: 0.5398 - acc: 0.7205 - val_loss: 0.5162 - val_acc: 0.7420\n",
            "Epoch 4/30\n",
            "50/50 [==============================] - 17s 336ms/step - loss: 0.5321 - acc: 0.7180 - val_loss: 0.5522 - val_acc: 0.7130\n",
            "Epoch 5/30\n",
            "50/50 [==============================] - 17s 335ms/step - loss: 0.5272 - acc: 0.7310 - val_loss: 0.5224 - val_acc: 0.7390\n",
            "Epoch 6/30\n",
            "50/50 [==============================] - 17s 336ms/step - loss: 0.5347 - acc: 0.7350 - val_loss: 0.5149 - val_acc: 0.7290\n",
            "Epoch 7/30\n",
            "50/50 [==============================] - 17s 334ms/step - loss: 0.5364 - acc: 0.7245 - val_loss: 0.5507 - val_acc: 0.7020\n",
            "Epoch 8/30\n",
            "50/50 [==============================] - 17s 335ms/step - loss: 0.5317 - acc: 0.7365 - val_loss: 0.5263 - val_acc: 0.7300\n",
            "Epoch 9/30\n",
            "50/50 [==============================] - 17s 335ms/step - loss: 0.5274 - acc: 0.7365 - val_loss: 0.5336 - val_acc: 0.7310\n",
            "Epoch 10/30\n",
            "50/50 [==============================] - 17s 337ms/step - loss: 0.5223 - acc: 0.7245 - val_loss: 0.5267 - val_acc: 0.7360\n",
            "Epoch 11/30\n",
            "50/50 [==============================] - 17s 336ms/step - loss: 0.5261 - acc: 0.7335 - val_loss: 0.5500 - val_acc: 0.7290\n",
            "Epoch 12/30\n",
            "50/50 [==============================] - 17s 335ms/step - loss: 0.5172 - acc: 0.7480 - val_loss: 0.5217 - val_acc: 0.7400\n",
            "Epoch 13/30\n",
            "50/50 [==============================] - 17s 334ms/step - loss: 0.5255 - acc: 0.7315 - val_loss: 0.5614 - val_acc: 0.7020\n",
            "Epoch 14/30\n",
            "50/50 [==============================] - 17s 335ms/step - loss: 0.5261 - acc: 0.7415 - val_loss: 0.5043 - val_acc: 0.7460\n",
            "Epoch 15/30\n",
            "50/50 [==============================] - 17s 334ms/step - loss: 0.5126 - acc: 0.7385 - val_loss: 0.5377 - val_acc: 0.7210\n",
            "Epoch 16/30\n",
            "50/50 [==============================] - 17s 337ms/step - loss: 0.5132 - acc: 0.7435 - val_loss: 0.5790 - val_acc: 0.7270\n",
            "Epoch 17/30\n",
            "50/50 [==============================] - 17s 335ms/step - loss: 0.5111 - acc: 0.7505 - val_loss: 0.6328 - val_acc: 0.6700\n",
            "Epoch 18/30\n",
            "50/50 [==============================] - 17s 334ms/step - loss: 0.5285 - acc: 0.7340 - val_loss: 0.5247 - val_acc: 0.7490\n",
            "Epoch 19/30\n",
            "50/50 [==============================] - 17s 335ms/step - loss: 0.5207 - acc: 0.7350 - val_loss: 0.5292 - val_acc: 0.7270\n",
            "Epoch 20/30\n",
            "50/50 [==============================] - 17s 336ms/step - loss: 0.5103 - acc: 0.7410 - val_loss: 0.5262 - val_acc: 0.7310\n",
            "Epoch 21/30\n",
            "50/50 [==============================] - 17s 336ms/step - loss: 0.5037 - acc: 0.7465 - val_loss: 0.5551 - val_acc: 0.7220\n",
            "Epoch 22/30\n",
            "50/50 [==============================] - 17s 334ms/step - loss: 0.5158 - acc: 0.7425 - val_loss: 0.5557 - val_acc: 0.7090\n",
            "Epoch 23/30\n",
            "50/50 [==============================] - 17s 333ms/step - loss: 0.5140 - acc: 0.7485 - val_loss: 0.5663 - val_acc: 0.7040\n",
            "Epoch 24/30\n",
            "50/50 [==============================] - 17s 334ms/step - loss: 0.5002 - acc: 0.7630 - val_loss: 0.5221 - val_acc: 0.7440\n",
            "Epoch 25/30\n",
            "50/50 [==============================] - 17s 333ms/step - loss: 0.4972 - acc: 0.7545 - val_loss: 0.5279 - val_acc: 0.7450\n",
            "Epoch 26/30\n",
            "50/50 [==============================] - 17s 335ms/step - loss: 0.4981 - acc: 0.7465 - val_loss: 0.5334 - val_acc: 0.7440\n",
            "Epoch 27/30\n",
            "50/50 [==============================] - 17s 332ms/step - loss: 0.5065 - acc: 0.7525 - val_loss: 0.5297 - val_acc: 0.7380\n",
            "Epoch 28/30\n",
            "50/50 [==============================] - 17s 333ms/step - loss: 0.5056 - acc: 0.7425 - val_loss: 0.5160 - val_acc: 0.7330\n",
            "Epoch 29/30\n",
            "50/50 [==============================] - 17s 334ms/step - loss: 0.4896 - acc: 0.7665 - val_loss: 0.5564 - val_acc: 0.7080\n",
            "Epoch 30/30\n",
            "50/50 [==============================] - 17s 334ms/step - loss: 0.4900 - acc: 0.7590 - val_loss: 0.6084 - val_acc: 0.6890\n"
          ],
          "name": "stdout"
        }
      ]
    }
  ]
}